{
  "nbformat": 4,
  "nbformat_minor": 0,
  "metadata": {
    "colab": {
      "provenance": [],
      "toc_visible": true,
      "authorship_tag": "ABX9TyO+3atSb2T2P37RT6L7RjpX",
      "include_colab_link": true
    },
    "kernelspec": {
      "name": "python3",
      "display_name": "Python 3"
    },
    "language_info": {
      "name": "python"
    }
  },
  "cells": [
    {
      "cell_type": "markdown",
      "metadata": {
        "id": "view-in-github",
        "colab_type": "text"
      },
      "source": [
        "<a href=\"https://colab.research.google.com/github/NickyLiuGD/ChatGPT-Discord-Bot/blob/main/md2latex.ipynb\" target=\"_parent\"><img src=\"https://colab.research.google.com/assets/colab-badge.svg\" alt=\"Open In Colab\"/></a>"
      ]
    },
    {
      "cell_type": "markdown",
      "source": [
        "# 全局初始化"
      ],
      "metadata": {
        "id": "X-Kmb9lhTyAJ"
      }
    },
    {
      "cell_type": "markdown",
      "source": [
        "## 连接安装Google Drive，并设置工作目录"
      ],
      "metadata": {
        "id": "rBvcAcR5RuTc"
      }
    },
    {
      "source": [
        "from google.colab import drive  # Import the drive module\n",
        "import os\n",
        "\n",
        "# Mount Google Drive\n",
        "drive.mount('/content/drive')\n",
        "\n",
        "# 设置工作目录到 Google Drive 中的某个文件夹\n",
        "os.chdir('/content/drive/MyDrive/Colab_Docutments')  # 替换为你的文件夹路径"
      ],
      "cell_type": "code",
      "metadata": {
        "colab": {
          "base_uri": "https://localhost:8080/"
        },
        "collapsed": true,
        "id": "hzsZ_6QSRXWc",
        "outputId": "a292ee3a-0abb-4805-8a84-50d182b26622"
      },
      "execution_count": null,
      "outputs": [
        {
          "output_type": "stream",
          "name": "stdout",
          "text": [
            "Drive already mounted at /content/drive; to attempt to forcibly remount, call drive.mount(\"/content/drive\", force_remount=True).\n"
          ]
        }
      ]
    },
    {
      "cell_type": "markdown",
      "source": [
        "shutil 模块提供了一系列对文件和文件集合的高阶操作。\n",
        "导入 files 模块，该模块提供了一些方便的函数来处理文件的上传和下载。\n",
        "\n",
        "在 Colab 中,文件的操作是在临时环境中进行的,当会话结束时,所有的更改都会丢失。如果需要保留文件,可以使用 files.download() 函数将文件下载到本地。"
      ],
      "metadata": {
        "id": "GfZSGmAAW83j"
      }
    },
    {
      "cell_type": "code",
      "source": [
        "import shutil\n",
        "\n",
        "from google.colab import files\n"
      ],
      "metadata": {
        "id": "EWEU0GtGKXO4"
      },
      "execution_count": null,
      "outputs": []
    },
    {
      "cell_type": "markdown",
      "source": [
        "## latex初始化"
      ],
      "metadata": {
        "id": "D2NVJvbsUOlN"
      }
    },
    {
      "cell_type": "markdown",
      "source": [
        "### 安装texlive"
      ],
      "metadata": {
        "id": "FBPuV2UxwSX9"
      }
    },
    {
      "cell_type": "code",
      "source": [
        "!apt-get install texlive-xetex texlive-fonts-recommended texlive-latex-extra"
      ],
      "metadata": {
        "colab": {
          "base_uri": "https://localhost:8080/"
        },
        "collapsed": true,
        "id": "TityYCBQCyjF",
        "outputId": "13d99d3a-1114-48f4-d395-20b5c12dc539"
      },
      "execution_count": null,
      "outputs": [
        {
          "output_type": "stream",
          "name": "stdout",
          "text": [
            "Reading package lists... Done\n",
            "Building dependency tree... Done\n",
            "Reading state information... Done\n",
            "The following additional packages will be installed:\n",
            "  dvisvgm fonts-droid-fallback fonts-lato fonts-lmodern fonts-noto-mono fonts-texgyre\n",
            "  fonts-urw-base35 libapache-pom-java libcommons-logging-java libcommons-parent-java\n",
            "  libfontbox-java libfontenc1 libgs9 libgs9-common libidn12 libijs-0.35 libjbig2dec0 libkpathsea6\n",
            "  libpdfbox-java libptexenc1 libruby3.0 libsynctex2 libteckit0 libtexlua53 libtexluajit2 libwoff1\n",
            "  libzzip-0-13 lmodern poppler-data preview-latex-style rake ruby ruby-net-telnet ruby-rubygems\n",
            "  ruby-webrick ruby-xmlrpc ruby3.0 rubygems-integration t1utils teckit tex-common tex-gyre\n",
            "  texlive-base texlive-binaries texlive-latex-base texlive-latex-recommended texlive-pictures\n",
            "  texlive-plain-generic tipa xfonts-encodings xfonts-utils\n",
            "Suggested packages:\n",
            "  fonts-noto fonts-freefont-otf | fonts-freefont-ttf libavalon-framework-java\n",
            "  libcommons-logging-java-doc libexcalibur-logkit-java liblog4j1.2-java poppler-utils ghostscript\n",
            "  fonts-japanese-mincho | fonts-ipafont-mincho fonts-japanese-gothic | fonts-ipafont-gothic\n",
            "  fonts-arphic-ukai fonts-arphic-uming fonts-nanum ri ruby-dev bundler debhelper gv\n",
            "  | postscript-viewer perl-tk xpdf | pdf-viewer xzdec texlive-fonts-recommended-doc\n",
            "  texlive-latex-base-doc python3-pygments icc-profiles libfile-which-perl\n",
            "  libspreadsheet-parseexcel-perl texlive-latex-extra-doc texlive-latex-recommended-doc\n",
            "  texlive-luatex texlive-pstricks dot2tex prerex texlive-pictures-doc vprerex default-jre-headless\n",
            "  tipa-doc\n",
            "The following NEW packages will be installed:\n",
            "  dvisvgm fonts-droid-fallback fonts-lato fonts-lmodern fonts-noto-mono fonts-texgyre\n",
            "  fonts-urw-base35 libapache-pom-java libcommons-logging-java libcommons-parent-java\n",
            "  libfontbox-java libfontenc1 libgs9 libgs9-common libidn12 libijs-0.35 libjbig2dec0 libkpathsea6\n",
            "  libpdfbox-java libptexenc1 libruby3.0 libsynctex2 libteckit0 libtexlua53 libtexluajit2 libwoff1\n",
            "  libzzip-0-13 lmodern poppler-data preview-latex-style rake ruby ruby-net-telnet ruby-rubygems\n",
            "  ruby-webrick ruby-xmlrpc ruby3.0 rubygems-integration t1utils teckit tex-common tex-gyre\n",
            "  texlive-base texlive-binaries texlive-fonts-recommended texlive-latex-base texlive-latex-extra\n",
            "  texlive-latex-recommended texlive-pictures texlive-plain-generic texlive-xetex tipa\n",
            "  xfonts-encodings xfonts-utils\n",
            "0 upgraded, 54 newly installed, 0 to remove and 49 not upgraded.\n",
            "Need to get 182 MB of archives.\n",
            "After this operation, 571 MB of additional disk space will be used.\n",
            "Get:1 http://archive.ubuntu.com/ubuntu jammy/main amd64 fonts-droid-fallback all 1:6.0.1r16-1.1build1 [1,805 kB]\n",
            "Get:2 http://archive.ubuntu.com/ubuntu jammy/main amd64 fonts-lato all 2.0-2.1 [2,696 kB]\n",
            "Get:3 http://archive.ubuntu.com/ubuntu jammy/main amd64 poppler-data all 0.4.11-1 [2,171 kB]\n",
            "Get:4 http://archive.ubuntu.com/ubuntu jammy/universe amd64 tex-common all 6.17 [33.7 kB]\n",
            "Get:5 http://archive.ubuntu.com/ubuntu jammy/main amd64 fonts-urw-base35 all 20200910-1 [6,367 kB]\n",
            "Get:6 http://archive.ubuntu.com/ubuntu jammy-updates/main amd64 libgs9-common all 9.55.0~dfsg1-0ubuntu5.9 [752 kB]\n",
            "Get:7 http://archive.ubuntu.com/ubuntu jammy-updates/main amd64 libidn12 amd64 1.38-4ubuntu1 [60.0 kB]\n",
            "Get:8 http://archive.ubuntu.com/ubuntu jammy/main amd64 libijs-0.35 amd64 0.35-15build2 [16.5 kB]\n",
            "Get:9 http://archive.ubuntu.com/ubuntu jammy/main amd64 libjbig2dec0 amd64 0.19-3build2 [64.7 kB]\n",
            "Get:10 http://archive.ubuntu.com/ubuntu jammy-updates/main amd64 libgs9 amd64 9.55.0~dfsg1-0ubuntu5.9 [5,033 kB]\n",
            "Get:11 http://archive.ubuntu.com/ubuntu jammy-updates/main amd64 libkpathsea6 amd64 2021.20210626.59705-1ubuntu0.2 [60.4 kB]\n",
            "Get:12 http://archive.ubuntu.com/ubuntu jammy/main amd64 libwoff1 amd64 1.0.2-1build4 [45.2 kB]\n",
            "Get:13 http://archive.ubuntu.com/ubuntu jammy/universe amd64 dvisvgm amd64 2.13.1-1 [1,221 kB]\n",
            "Get:14 http://archive.ubuntu.com/ubuntu jammy/universe amd64 fonts-lmodern all 2.004.5-6.1 [4,532 kB]\n",
            "Get:15 http://archive.ubuntu.com/ubuntu jammy/main amd64 fonts-noto-mono all 20201225-1build1 [397 kB]\n",
            "Get:16 http://archive.ubuntu.com/ubuntu jammy/universe amd64 fonts-texgyre all 20180621-3.1 [10.2 MB]\n",
            "Get:17 http://archive.ubuntu.com/ubuntu jammy/universe amd64 libapache-pom-java all 18-1 [4,720 B]\n",
            "Get:18 http://archive.ubuntu.com/ubuntu jammy/universe amd64 libcommons-parent-java all 43-1 [10.8 kB]\n",
            "Get:19 http://archive.ubuntu.com/ubuntu jammy/universe amd64 libcommons-logging-java all 1.2-2 [60.3 kB]\n",
            "Get:20 http://archive.ubuntu.com/ubuntu jammy/main amd64 libfontenc1 amd64 1:1.1.4-1build3 [14.7 kB]\n",
            "Get:21 http://archive.ubuntu.com/ubuntu jammy-updates/main amd64 libptexenc1 amd64 2021.20210626.59705-1ubuntu0.2 [39.1 kB]\n",
            "Get:22 http://archive.ubuntu.com/ubuntu jammy/main amd64 rubygems-integration all 1.18 [5,336 B]\n",
            "Get:23 http://archive.ubuntu.com/ubuntu jammy-updates/main amd64 ruby3.0 amd64 3.0.2-7ubuntu2.7 [50.1 kB]\n",
            "Get:24 http://archive.ubuntu.com/ubuntu jammy/main amd64 ruby-rubygems all 3.3.5-2 [228 kB]\n",
            "Get:25 http://archive.ubuntu.com/ubuntu jammy/main amd64 ruby amd64 1:3.0~exp1 [5,100 B]\n",
            "Get:26 http://archive.ubuntu.com/ubuntu jammy/main amd64 rake all 13.0.6-2 [61.7 kB]\n",
            "Get:27 http://archive.ubuntu.com/ubuntu jammy/main amd64 ruby-net-telnet all 0.1.1-2 [12.6 kB]\n",
            "Get:28 http://archive.ubuntu.com/ubuntu jammy/universe amd64 ruby-webrick all 1.7.0-3 [51.8 kB]\n",
            "Get:29 http://archive.ubuntu.com/ubuntu jammy-updates/main amd64 ruby-xmlrpc all 0.3.2-1ubuntu0.1 [24.9 kB]\n",
            "Get:30 http://archive.ubuntu.com/ubuntu jammy-updates/main amd64 libruby3.0 amd64 3.0.2-7ubuntu2.7 [5,113 kB]\n",
            "Get:31 http://archive.ubuntu.com/ubuntu jammy-updates/main amd64 libsynctex2 amd64 2021.20210626.59705-1ubuntu0.2 [55.6 kB]\n",
            "Get:32 http://archive.ubuntu.com/ubuntu jammy/universe amd64 libteckit0 amd64 2.5.11+ds1-1 [421 kB]\n",
            "Get:33 http://archive.ubuntu.com/ubuntu jammy-updates/main amd64 libtexlua53 amd64 2021.20210626.59705-1ubuntu0.2 [120 kB]\n",
            "Get:34 http://archive.ubuntu.com/ubuntu jammy-updates/main amd64 libtexluajit2 amd64 2021.20210626.59705-1ubuntu0.2 [267 kB]\n",
            "Get:35 http://archive.ubuntu.com/ubuntu jammy/universe amd64 libzzip-0-13 amd64 0.13.72+dfsg.1-1.1 [27.0 kB]\n",
            "Get:36 http://archive.ubuntu.com/ubuntu jammy/main amd64 xfonts-encodings all 1:1.0.5-0ubuntu2 [578 kB]\n",
            "Get:37 http://archive.ubuntu.com/ubuntu jammy/main amd64 xfonts-utils amd64 1:7.7+6build2 [94.6 kB]\n",
            "Get:38 http://archive.ubuntu.com/ubuntu jammy/universe amd64 lmodern all 2.004.5-6.1 [9,471 kB]\n",
            "Get:39 http://archive.ubuntu.com/ubuntu jammy/universe amd64 preview-latex-style all 12.2-1ubuntu1 [185 kB]\n",
            "Get:40 http://archive.ubuntu.com/ubuntu jammy/main amd64 t1utils amd64 1.41-4build2 [61.3 kB]\n",
            "Get:41 http://archive.ubuntu.com/ubuntu jammy/universe amd64 teckit amd64 2.5.11+ds1-1 [699 kB]\n",
            "Get:42 http://archive.ubuntu.com/ubuntu jammy/universe amd64 tex-gyre all 20180621-3.1 [6,209 kB]\n",
            "Get:43 http://archive.ubuntu.com/ubuntu jammy-updates/universe amd64 texlive-binaries amd64 2021.20210626.59705-1ubuntu0.2 [9,860 kB]\n",
            "Get:44 http://archive.ubuntu.com/ubuntu jammy/universe amd64 texlive-base all 2021.20220204-1 [21.0 MB]\n",
            "Get:45 http://archive.ubuntu.com/ubuntu jammy/universe amd64 texlive-fonts-recommended all 2021.20220204-1 [4,972 kB]\n",
            "Get:46 http://archive.ubuntu.com/ubuntu jammy/universe amd64 texlive-latex-base all 2021.20220204-1 [1,128 kB]\n",
            "Get:47 http://archive.ubuntu.com/ubuntu jammy/universe amd64 libfontbox-java all 1:1.8.16-2 [207 kB]\n",
            "Get:48 http://archive.ubuntu.com/ubuntu jammy/universe amd64 libpdfbox-java all 1:1.8.16-2 [5,199 kB]\n",
            "Get:49 http://archive.ubuntu.com/ubuntu jammy/universe amd64 texlive-latex-recommended all 2021.20220204-1 [14.4 MB]\n",
            "Get:50 http://archive.ubuntu.com/ubuntu jammy/universe amd64 texlive-pictures all 2021.20220204-1 [8,720 kB]\n",
            "Get:51 http://archive.ubuntu.com/ubuntu jammy/universe amd64 texlive-latex-extra all 2021.20220204-1 [13.9 MB]\n",
            "Get:52 http://archive.ubuntu.com/ubuntu jammy/universe amd64 texlive-plain-generic all 2021.20220204-1 [27.5 MB]\n",
            "Get:53 http://archive.ubuntu.com/ubuntu jammy/universe amd64 tipa all 2:1.3-21 [2,967 kB]\n",
            "Get:54 http://archive.ubuntu.com/ubuntu jammy/universe amd64 texlive-xetex all 2021.20220204-1 [12.4 MB]\n",
            "Fetched 182 MB in 8s (21.5 MB/s)\n",
            "Extracting templates from packages: 100%\n",
            "Preconfiguring packages ...\n",
            "Selecting previously unselected package fonts-droid-fallback.\n",
            "(Reading database ... 123597 files and directories currently installed.)\n",
            "Preparing to unpack .../00-fonts-droid-fallback_1%3a6.0.1r16-1.1build1_all.deb ...\n",
            "Unpacking fonts-droid-fallback (1:6.0.1r16-1.1build1) ...\n",
            "Selecting previously unselected package fonts-lato.\n",
            "Preparing to unpack .../01-fonts-lato_2.0-2.1_all.deb ...\n",
            "Unpacking fonts-lato (2.0-2.1) ...\n",
            "Selecting previously unselected package poppler-data.\n",
            "Preparing to unpack .../02-poppler-data_0.4.11-1_all.deb ...\n",
            "Unpacking poppler-data (0.4.11-1) ...\n",
            "Selecting previously unselected package tex-common.\n",
            "Preparing to unpack .../03-tex-common_6.17_all.deb ...\n",
            "Unpacking tex-common (6.17) ...\n",
            "Selecting previously unselected package fonts-urw-base35.\n",
            "Preparing to unpack .../04-fonts-urw-base35_20200910-1_all.deb ...\n",
            "Unpacking fonts-urw-base35 (20200910-1) ...\n",
            "Selecting previously unselected package libgs9-common.\n",
            "Preparing to unpack .../05-libgs9-common_9.55.0~dfsg1-0ubuntu5.9_all.deb ...\n",
            "Unpacking libgs9-common (9.55.0~dfsg1-0ubuntu5.9) ...\n",
            "Selecting previously unselected package libidn12:amd64.\n",
            "Preparing to unpack .../06-libidn12_1.38-4ubuntu1_amd64.deb ...\n",
            "Unpacking libidn12:amd64 (1.38-4ubuntu1) ...\n",
            "Selecting previously unselected package libijs-0.35:amd64.\n",
            "Preparing to unpack .../07-libijs-0.35_0.35-15build2_amd64.deb ...\n",
            "Unpacking libijs-0.35:amd64 (0.35-15build2) ...\n",
            "Selecting previously unselected package libjbig2dec0:amd64.\n",
            "Preparing to unpack .../08-libjbig2dec0_0.19-3build2_amd64.deb ...\n",
            "Unpacking libjbig2dec0:amd64 (0.19-3build2) ...\n",
            "Selecting previously unselected package libgs9:amd64.\n",
            "Preparing to unpack .../09-libgs9_9.55.0~dfsg1-0ubuntu5.9_amd64.deb ...\n",
            "Unpacking libgs9:amd64 (9.55.0~dfsg1-0ubuntu5.9) ...\n",
            "Selecting previously unselected package libkpathsea6:amd64.\n",
            "Preparing to unpack .../10-libkpathsea6_2021.20210626.59705-1ubuntu0.2_amd64.deb ...\n",
            "Unpacking libkpathsea6:amd64 (2021.20210626.59705-1ubuntu0.2) ...\n",
            "Selecting previously unselected package libwoff1:amd64.\n",
            "Preparing to unpack .../11-libwoff1_1.0.2-1build4_amd64.deb ...\n",
            "Unpacking libwoff1:amd64 (1.0.2-1build4) ...\n",
            "Selecting previously unselected package dvisvgm.\n",
            "Preparing to unpack .../12-dvisvgm_2.13.1-1_amd64.deb ...\n",
            "Unpacking dvisvgm (2.13.1-1) ...\n",
            "Selecting previously unselected package fonts-lmodern.\n",
            "Preparing to unpack .../13-fonts-lmodern_2.004.5-6.1_all.deb ...\n",
            "Unpacking fonts-lmodern (2.004.5-6.1) ...\n",
            "Selecting previously unselected package fonts-noto-mono.\n",
            "Preparing to unpack .../14-fonts-noto-mono_20201225-1build1_all.deb ...\n",
            "Unpacking fonts-noto-mono (20201225-1build1) ...\n",
            "Selecting previously unselected package fonts-texgyre.\n",
            "Preparing to unpack .../15-fonts-texgyre_20180621-3.1_all.deb ...\n",
            "Unpacking fonts-texgyre (20180621-3.1) ...\n",
            "Selecting previously unselected package libapache-pom-java.\n",
            "Preparing to unpack .../16-libapache-pom-java_18-1_all.deb ...\n",
            "Unpacking libapache-pom-java (18-1) ...\n",
            "Selecting previously unselected package libcommons-parent-java.\n",
            "Preparing to unpack .../17-libcommons-parent-java_43-1_all.deb ...\n",
            "Unpacking libcommons-parent-java (43-1) ...\n",
            "Selecting previously unselected package libcommons-logging-java.\n",
            "Preparing to unpack .../18-libcommons-logging-java_1.2-2_all.deb ...\n",
            "Unpacking libcommons-logging-java (1.2-2) ...\n",
            "Selecting previously unselected package libfontenc1:amd64.\n",
            "Preparing to unpack .../19-libfontenc1_1%3a1.1.4-1build3_amd64.deb ...\n",
            "Unpacking libfontenc1:amd64 (1:1.1.4-1build3) ...\n",
            "Selecting previously unselected package libptexenc1:amd64.\n",
            "Preparing to unpack .../20-libptexenc1_2021.20210626.59705-1ubuntu0.2_amd64.deb ...\n",
            "Unpacking libptexenc1:amd64 (2021.20210626.59705-1ubuntu0.2) ...\n",
            "Selecting previously unselected package rubygems-integration.\n",
            "Preparing to unpack .../21-rubygems-integration_1.18_all.deb ...\n",
            "Unpacking rubygems-integration (1.18) ...\n",
            "Selecting previously unselected package ruby3.0.\n",
            "Preparing to unpack .../22-ruby3.0_3.0.2-7ubuntu2.7_amd64.deb ...\n",
            "Unpacking ruby3.0 (3.0.2-7ubuntu2.7) ...\n",
            "Selecting previously unselected package ruby-rubygems.\n",
            "Preparing to unpack .../23-ruby-rubygems_3.3.5-2_all.deb ...\n",
            "Unpacking ruby-rubygems (3.3.5-2) ...\n",
            "Selecting previously unselected package ruby.\n",
            "Preparing to unpack .../24-ruby_1%3a3.0~exp1_amd64.deb ...\n",
            "Unpacking ruby (1:3.0~exp1) ...\n",
            "Selecting previously unselected package rake.\n",
            "Preparing to unpack .../25-rake_13.0.6-2_all.deb ...\n",
            "Unpacking rake (13.0.6-2) ...\n",
            "Selecting previously unselected package ruby-net-telnet.\n",
            "Preparing to unpack .../26-ruby-net-telnet_0.1.1-2_all.deb ...\n",
            "Unpacking ruby-net-telnet (0.1.1-2) ...\n",
            "Selecting previously unselected package ruby-webrick.\n",
            "Preparing to unpack .../27-ruby-webrick_1.7.0-3_all.deb ...\n",
            "Unpacking ruby-webrick (1.7.0-3) ...\n",
            "Selecting previously unselected package ruby-xmlrpc.\n",
            "Preparing to unpack .../28-ruby-xmlrpc_0.3.2-1ubuntu0.1_all.deb ...\n",
            "Unpacking ruby-xmlrpc (0.3.2-1ubuntu0.1) ...\n",
            "Selecting previously unselected package libruby3.0:amd64.\n",
            "Preparing to unpack .../29-libruby3.0_3.0.2-7ubuntu2.7_amd64.deb ...\n",
            "Unpacking libruby3.0:amd64 (3.0.2-7ubuntu2.7) ...\n",
            "Selecting previously unselected package libsynctex2:amd64.\n",
            "Preparing to unpack .../30-libsynctex2_2021.20210626.59705-1ubuntu0.2_amd64.deb ...\n",
            "Unpacking libsynctex2:amd64 (2021.20210626.59705-1ubuntu0.2) ...\n",
            "Selecting previously unselected package libteckit0:amd64.\n",
            "Preparing to unpack .../31-libteckit0_2.5.11+ds1-1_amd64.deb ...\n",
            "Unpacking libteckit0:amd64 (2.5.11+ds1-1) ...\n",
            "Selecting previously unselected package libtexlua53:amd64.\n",
            "Preparing to unpack .../32-libtexlua53_2021.20210626.59705-1ubuntu0.2_amd64.deb ...\n",
            "Unpacking libtexlua53:amd64 (2021.20210626.59705-1ubuntu0.2) ...\n",
            "Selecting previously unselected package libtexluajit2:amd64.\n",
            "Preparing to unpack .../33-libtexluajit2_2021.20210626.59705-1ubuntu0.2_amd64.deb ...\n",
            "Unpacking libtexluajit2:amd64 (2021.20210626.59705-1ubuntu0.2) ...\n",
            "Selecting previously unselected package libzzip-0-13:amd64.\n",
            "Preparing to unpack .../34-libzzip-0-13_0.13.72+dfsg.1-1.1_amd64.deb ...\n",
            "Unpacking libzzip-0-13:amd64 (0.13.72+dfsg.1-1.1) ...\n",
            "Selecting previously unselected package xfonts-encodings.\n",
            "Preparing to unpack .../35-xfonts-encodings_1%3a1.0.5-0ubuntu2_all.deb ...\n",
            "Unpacking xfonts-encodings (1:1.0.5-0ubuntu2) ...\n",
            "Selecting previously unselected package xfonts-utils.\n",
            "Preparing to unpack .../36-xfonts-utils_1%3a7.7+6build2_amd64.deb ...\n",
            "Unpacking xfonts-utils (1:7.7+6build2) ...\n",
            "Selecting previously unselected package lmodern.\n",
            "Preparing to unpack .../37-lmodern_2.004.5-6.1_all.deb ...\n",
            "Unpacking lmodern (2.004.5-6.1) ...\n",
            "Selecting previously unselected package preview-latex-style.\n",
            "Preparing to unpack .../38-preview-latex-style_12.2-1ubuntu1_all.deb ...\n",
            "Unpacking preview-latex-style (12.2-1ubuntu1) ...\n",
            "Selecting previously unselected package t1utils.\n",
            "Preparing to unpack .../39-t1utils_1.41-4build2_amd64.deb ...\n",
            "Unpacking t1utils (1.41-4build2) ...\n",
            "Selecting previously unselected package teckit.\n",
            "Preparing to unpack .../40-teckit_2.5.11+ds1-1_amd64.deb ...\n",
            "Unpacking teckit (2.5.11+ds1-1) ...\n",
            "Selecting previously unselected package tex-gyre.\n",
            "Preparing to unpack .../41-tex-gyre_20180621-3.1_all.deb ...\n",
            "Unpacking tex-gyre (20180621-3.1) ...\n",
            "Selecting previously unselected package texlive-binaries.\n",
            "Preparing to unpack .../42-texlive-binaries_2021.20210626.59705-1ubuntu0.2_amd64.deb ...\n",
            "Unpacking texlive-binaries (2021.20210626.59705-1ubuntu0.2) ...\n",
            "Selecting previously unselected package texlive-base.\n",
            "Preparing to unpack .../43-texlive-base_2021.20220204-1_all.deb ...\n",
            "Unpacking texlive-base (2021.20220204-1) ...\n",
            "Selecting previously unselected package texlive-fonts-recommended.\n",
            "Preparing to unpack .../44-texlive-fonts-recommended_2021.20220204-1_all.deb ...\n",
            "Unpacking texlive-fonts-recommended (2021.20220204-1) ...\n",
            "Selecting previously unselected package texlive-latex-base.\n",
            "Preparing to unpack .../45-texlive-latex-base_2021.20220204-1_all.deb ...\n",
            "Unpacking texlive-latex-base (2021.20220204-1) ...\n",
            "Selecting previously unselected package libfontbox-java.\n",
            "Preparing to unpack .../46-libfontbox-java_1%3a1.8.16-2_all.deb ...\n",
            "Unpacking libfontbox-java (1:1.8.16-2) ...\n",
            "Selecting previously unselected package libpdfbox-java.\n",
            "Preparing to unpack .../47-libpdfbox-java_1%3a1.8.16-2_all.deb ...\n",
            "Unpacking libpdfbox-java (1:1.8.16-2) ...\n",
            "Selecting previously unselected package texlive-latex-recommended.\n",
            "Preparing to unpack .../48-texlive-latex-recommended_2021.20220204-1_all.deb ...\n",
            "Unpacking texlive-latex-recommended (2021.20220204-1) ...\n",
            "Selecting previously unselected package texlive-pictures.\n",
            "Preparing to unpack .../49-texlive-pictures_2021.20220204-1_all.deb ...\n",
            "Unpacking texlive-pictures (2021.20220204-1) ...\n",
            "Selecting previously unselected package texlive-latex-extra.\n",
            "Preparing to unpack .../50-texlive-latex-extra_2021.20220204-1_all.deb ...\n",
            "Unpacking texlive-latex-extra (2021.20220204-1) ...\n",
            "Selecting previously unselected package texlive-plain-generic.\n",
            "Preparing to unpack .../51-texlive-plain-generic_2021.20220204-1_all.deb ...\n",
            "Unpacking texlive-plain-generic (2021.20220204-1) ...\n",
            "Selecting previously unselected package tipa.\n",
            "Preparing to unpack .../52-tipa_2%3a1.3-21_all.deb ...\n",
            "Unpacking tipa (2:1.3-21) ...\n",
            "Selecting previously unselected package texlive-xetex.\n",
            "Preparing to unpack .../53-texlive-xetex_2021.20220204-1_all.deb ...\n",
            "Unpacking texlive-xetex (2021.20220204-1) ...\n",
            "Setting up fonts-lato (2.0-2.1) ...\n",
            "Setting up fonts-noto-mono (20201225-1build1) ...\n",
            "Setting up libwoff1:amd64 (1.0.2-1build4) ...\n",
            "Setting up libtexlua53:amd64 (2021.20210626.59705-1ubuntu0.2) ...\n",
            "Setting up libijs-0.35:amd64 (0.35-15build2) ...\n",
            "Setting up libtexluajit2:amd64 (2021.20210626.59705-1ubuntu0.2) ...\n",
            "Setting up libfontbox-java (1:1.8.16-2) ...\n",
            "Setting up rubygems-integration (1.18) ...\n",
            "Setting up libzzip-0-13:amd64 (0.13.72+dfsg.1-1.1) ...\n",
            "Setting up fonts-urw-base35 (20200910-1) ...\n",
            "Setting up poppler-data (0.4.11-1) ...\n",
            "Setting up tex-common (6.17) ...\n",
            "update-language: texlive-base not installed and configured, doing nothing!\n",
            "Setting up libfontenc1:amd64 (1:1.1.4-1build3) ...\n",
            "Setting up libjbig2dec0:amd64 (0.19-3build2) ...\n",
            "Setting up libteckit0:amd64 (2.5.11+ds1-1) ...\n",
            "Setting up libapache-pom-java (18-1) ...\n",
            "Setting up ruby-net-telnet (0.1.1-2) ...\n",
            "Setting up xfonts-encodings (1:1.0.5-0ubuntu2) ...\n",
            "Setting up t1utils (1.41-4build2) ...\n",
            "Setting up libidn12:amd64 (1.38-4ubuntu1) ...\n",
            "Setting up fonts-texgyre (20180621-3.1) ...\n",
            "Setting up libkpathsea6:amd64 (2021.20210626.59705-1ubuntu0.2) ...\n",
            "Setting up ruby-webrick (1.7.0-3) ...\n",
            "Setting up fonts-lmodern (2.004.5-6.1) ...\n",
            "Setting up fonts-droid-fallback (1:6.0.1r16-1.1build1) ...\n",
            "Setting up ruby-xmlrpc (0.3.2-1ubuntu0.1) ...\n",
            "Setting up libsynctex2:amd64 (2021.20210626.59705-1ubuntu0.2) ...\n",
            "Setting up libgs9-common (9.55.0~dfsg1-0ubuntu5.9) ...\n",
            "Setting up teckit (2.5.11+ds1-1) ...\n",
            "Setting up libpdfbox-java (1:1.8.16-2) ...\n",
            "Setting up libgs9:amd64 (9.55.0~dfsg1-0ubuntu5.9) ...\n",
            "Setting up preview-latex-style (12.2-1ubuntu1) ...\n",
            "Setting up libcommons-parent-java (43-1) ...\n",
            "Setting up dvisvgm (2.13.1-1) ...\n",
            "Setting up libcommons-logging-java (1.2-2) ...\n",
            "Setting up xfonts-utils (1:7.7+6build2) ...\n",
            "Setting up libptexenc1:amd64 (2021.20210626.59705-1ubuntu0.2) ...\n",
            "Setting up texlive-binaries (2021.20210626.59705-1ubuntu0.2) ...\n",
            "update-alternatives: using /usr/bin/xdvi-xaw to provide /usr/bin/xdvi.bin (xdvi.bin) in auto mode\n",
            "update-alternatives: using /usr/bin/bibtex.original to provide /usr/bin/bibtex (bibtex) in auto mode\n",
            "Setting up lmodern (2.004.5-6.1) ...\n",
            "Setting up texlive-base (2021.20220204-1) ...\n",
            "/usr/bin/ucfr\n",
            "/usr/bin/ucfr\n",
            "/usr/bin/ucfr\n",
            "/usr/bin/ucfr\n",
            "mktexlsr: Updating /var/lib/texmf/ls-R-TEXLIVEDIST... \n",
            "mktexlsr: Updating /var/lib/texmf/ls-R-TEXMFMAIN... \n",
            "mktexlsr: Updating /var/lib/texmf/ls-R... \n",
            "mktexlsr: Done.\n",
            "tl-paper: setting paper size for dvips to a4: /var/lib/texmf/dvips/config/config-paper.ps\n",
            "tl-paper: setting paper size for dvipdfmx to a4: /var/lib/texmf/dvipdfmx/dvipdfmx-paper.cfg\n",
            "tl-paper: setting paper size for xdvi to a4: /var/lib/texmf/xdvi/XDvi-paper\n",
            "tl-paper: setting paper size for pdftex to a4: /var/lib/texmf/tex/generic/tex-ini-files/pdftexconfig.tex\n",
            "Setting up tex-gyre (20180621-3.1) ...\n",
            "Setting up texlive-plain-generic (2021.20220204-1) ...\n",
            "Setting up texlive-latex-base (2021.20220204-1) ...\n",
            "Setting up texlive-latex-recommended (2021.20220204-1) ...\n",
            "Setting up texlive-pictures (2021.20220204-1) ...\n",
            "Setting up texlive-fonts-recommended (2021.20220204-1) ...\n",
            "Setting up tipa (2:1.3-21) ...\n",
            "Setting up texlive-latex-extra (2021.20220204-1) ...\n",
            "Setting up texlive-xetex (2021.20220204-1) ...\n",
            "Setting up rake (13.0.6-2) ...\n",
            "Setting up libruby3.0:amd64 (3.0.2-7ubuntu2.7) ...\n",
            "Setting up ruby3.0 (3.0.2-7ubuntu2.7) ...\n",
            "Setting up ruby (1:3.0~exp1) ...\n",
            "Setting up ruby-rubygems (3.3.5-2) ...\n",
            "Processing triggers for man-db (2.10.2-1) ...\n",
            "Processing triggers for fontconfig (2.13.1-4.2ubuntu5) ...\n",
            "Processing triggers for libc-bin (2.35-0ubuntu3.4) ...\n",
            "/sbin/ldconfig.real: /usr/local/lib/libur_adapter_opencl.so.0 is not a symbolic link\n",
            "\n",
            "/sbin/ldconfig.real: /usr/local/lib/libtbbmalloc_proxy.so.2 is not a symbolic link\n",
            "\n",
            "/sbin/ldconfig.real: /usr/local/lib/libtbbmalloc.so.2 is not a symbolic link\n",
            "\n",
            "/sbin/ldconfig.real: /usr/local/lib/libtbb.so.12 is not a symbolic link\n",
            "\n",
            "/sbin/ldconfig.real: /usr/local/lib/libtbbbind.so.3 is not a symbolic link\n",
            "\n",
            "/sbin/ldconfig.real: /usr/local/lib/libur_adapter_level_zero.so.0 is not a symbolic link\n",
            "\n",
            "/sbin/ldconfig.real: /usr/local/lib/libur_loader.so.0 is not a symbolic link\n",
            "\n",
            "/sbin/ldconfig.real: /usr/local/lib/libtbbbind_2_0.so.3 is not a symbolic link\n",
            "\n",
            "/sbin/ldconfig.real: /usr/local/lib/libtbbbind_2_5.so.3 is not a symbolic link\n",
            "\n",
            "Processing triggers for tex-common (6.17) ...\n",
            "Running updmap-sys. This may take some time... done.\n",
            "Running mktexlsr /var/lib/texmf ... done.\n",
            "Building format(s) --all.\n",
            "\tThis may take some time... done.\n"
          ]
        }
      ]
    },
    {
      "cell_type": "markdown",
      "source": [
        "### 安装ctex"
      ],
      "metadata": {
        "id": "pZg8SGSTVRoj"
      }
    },
    {
      "cell_type": "markdown",
      "source": [
        "### 安装字体"
      ],
      "metadata": {
        "id": "Mng0wwHrakZV"
      }
    },
    {
      "cell_type": "markdown",
      "source": [
        "这个是添加fandol字体，不成功"
      ],
      "metadata": {
        "id": "rgXq25CWVhwT"
      }
    },
    {
      "cell_type": "code",
      "source": [
        "os.makedirs('/usr/share/fonts/truetype/fandol', exist_ok=True)\n",
        "\n",
        "# 移动字体文件到字体目录\n",
        "shutil.copy('FandolBraille-Display.otf', '/usr/share/fonts/truetype/fandol/')\n",
        "shutil.copy('FandolBraille-Regular.otf', '/usr/share/fonts/truetype/fandol/')\n",
        "shutil.copy('FandolFang-Regular.otf', '/usr/share/fonts/truetype/fandol/')\n",
        "shutil.copy('FandolHei-Bold.otf', '/usr/share/fonts/truetype/fandol/')\n",
        "shutil.copy('FandolHei-Regular.otf', '/usr/share/fonts/truetype/fandol/')\n",
        "shutil.copy('FandolKai-Regular.otf', '/usr/share/fonts/truetype/fandol/')\n",
        "shutil.copy('FandolSong-Bold.otf', '/usr/share/fonts/truetype/fandol/')\n",
        "shutil.copy('FandolSong-Regular.otf', '/usr/share/fonts/truetype/fandol/')\n",
        "\n",
        "# 更新字体缓存\n",
        "!fc-cache -f -v"
      ],
      "metadata": {
        "colab": {
          "base_uri": "https://localhost:8080/"
        },
        "collapsed": true,
        "id": "MNzmQLsiN6lX",
        "outputId": "9d7fcc40-4241-483e-df62-4eae4b7586b3"
      },
      "execution_count": null,
      "outputs": [
        {
          "output_type": "stream",
          "name": "stdout",
          "text": [
            "/usr/share/fonts: caching, new cache contents: 0 fonts, 6 dirs\n",
            "/usr/share/fonts/X11: caching, new cache contents: 0 fonts, 3 dirs\n",
            "/usr/share/fonts/X11/Type1: caching, new cache contents: 73 fonts, 0 dirs\n",
            "/usr/share/fonts/X11/encodings: caching, new cache contents: 0 fonts, 1 dirs\n",
            "/usr/share/fonts/X11/encodings/large: caching, new cache contents: 0 fonts, 0 dirs\n",
            "/usr/share/fonts/X11/util: caching, new cache contents: 0 fonts, 0 dirs\n",
            "/usr/share/fonts/cMap: caching, new cache contents: 0 fonts, 0 dirs\n",
            "/usr/share/fonts/cmap: caching, new cache contents: 0 fonts, 5 dirs\n",
            "/usr/share/fonts/cmap/adobe-cns1: caching, new cache contents: 0 fonts, 0 dirs\n",
            "/usr/share/fonts/cmap/adobe-gb1: caching, new cache contents: 0 fonts, 0 dirs\n",
            "/usr/share/fonts/cmap/adobe-japan1: caching, new cache contents: 0 fonts, 0 dirs\n",
            "/usr/share/fonts/cmap/adobe-japan2: caching, new cache contents: 0 fonts, 0 dirs\n",
            "/usr/share/fonts/cmap/adobe-korea1: caching, new cache contents: 0 fonts, 0 dirs\n",
            "/usr/share/fonts/opentype: caching, new cache contents: 0 fonts, 6 dirs\n",
            "/usr/share/fonts/opentype/ipaexfont-gothic: caching, new cache contents: 1 fonts, 0 dirs\n",
            "/usr/share/fonts/opentype/ipaexfont-mincho: caching, new cache contents: 1 fonts, 0 dirs\n",
            "/usr/share/fonts/opentype/ipafont-gothic: caching, new cache contents: 2 fonts, 0 dirs\n",
            "/usr/share/fonts/opentype/ipafont-mincho: caching, new cache contents: 2 fonts, 0 dirs\n",
            "/usr/share/fonts/opentype/tlwg: caching, new cache contents: 58 fonts, 0 dirs\n",
            "/usr/share/fonts/opentype/urw-base35: caching, new cache contents: 35 fonts, 0 dirs\n",
            "/usr/share/fonts/truetype: caching, new cache contents: 2 fonts, 15 dirs\n",
            "/usr/share/fonts/truetype/arphic: caching, new cache contents: 4 fonts, 0 dirs\n",
            "/usr/share/fonts/truetype/arphic-bkai00mp: caching, new cache contents: 1 fonts, 0 dirs\n",
            "/usr/share/fonts/truetype/arphic-bsmi00lp: caching, new cache contents: 1 fonts, 0 dirs\n",
            "/usr/share/fonts/truetype/arphic-gbsn00lp: caching, new cache contents: 1 fonts, 0 dirs\n",
            "/usr/share/fonts/truetype/arphic-gkai00mp: caching, new cache contents: 1 fonts, 0 dirs\n",
            "/usr/share/fonts/truetype/baekmuk: caching, new cache contents: 4 fonts, 0 dirs\n",
            "/usr/share/fonts/truetype/droid: caching, new cache contents: 1 fonts, 0 dirs\n",
            "/usr/share/fonts/truetype/fandol: caching, new cache contents: 8 fonts, 0 dirs\n",
            "/usr/share/fonts/truetype/humor-sans: caching, new cache contents: 1 fonts, 0 dirs\n",
            "/usr/share/fonts/truetype/lato: caching, new cache contents: 18 fonts, 0 dirs\n",
            "/usr/share/fonts/truetype/liberation: caching, new cache contents: 16 fonts, 0 dirs\n",
            "/usr/share/fonts/truetype/noto: caching, new cache contents: 3 fonts, 0 dirs\n",
            "/usr/share/fonts/truetype/padauk: caching, new cache contents: 4 fonts, 0 dirs\n",
            "/usr/share/fonts/truetype/unfonts-core: caching, new cache contents: 12 fonts, 0 dirs\n",
            "/usr/share/fonts/truetype/unfonts-extra: caching, new cache contents: 11 fonts, 0 dirs\n",
            "/usr/share/fonts/type1: caching, new cache contents: 0 fonts, 2 dirs\n",
            "/usr/share/fonts/type1/texlive-fonts-recommended: caching, new cache contents: 12 fonts, 0 dirs\n",
            "/usr/share/fonts/type1/urw-base35: caching, new cache contents: 35 fonts, 0 dirs\n",
            "/usr/local/share/fonts: caching, new cache contents: 0 fonts, 0 dirs\n",
            "/root/.local/share/fonts: skipping, no such directory\n",
            "/root/.fonts: skipping, no such directory\n",
            "/usr/share/texmf/fonts/opentype/public/lm: caching, new cache contents: 72 fonts, 0 dirs\n",
            "/usr/share/texmf/fonts/opentype/public/lm-math: caching, new cache contents: 1 fonts, 0 dirs\n",
            "/usr/share/texmf/fonts/opentype/public/tex-gyre: caching, new cache contents: 33 fonts, 0 dirs\n",
            "/usr/share/texmf/fonts/opentype/public/tex-gyre-math: caching, new cache contents: 5 fonts, 0 dirs\n",
            "/usr/share/fonts/X11: skipping, looped directory detected\n",
            "/usr/share/fonts/cMap: skipping, looped directory detected\n",
            "/usr/share/fonts/cmap: skipping, looped directory detected\n",
            "/usr/share/fonts/opentype: skipping, looped directory detected\n",
            "/usr/share/fonts/truetype: skipping, looped directory detected\n",
            "/usr/share/fonts/type1: skipping, looped directory detected\n",
            "/usr/share/fonts/X11/Type1: skipping, looped directory detected\n",
            "/usr/share/fonts/X11/encodings: skipping, looped directory detected\n",
            "/usr/share/fonts/X11/util: skipping, looped directory detected\n",
            "/usr/share/fonts/cmap/adobe-cns1: skipping, looped directory detected\n",
            "/usr/share/fonts/cmap/adobe-gb1: skipping, looped directory detected\n",
            "/usr/share/fonts/cmap/adobe-japan1: skipping, looped directory detected\n",
            "/usr/share/fonts/cmap/adobe-japan2: skipping, looped directory detected\n",
            "/usr/share/fonts/cmap/adobe-korea1: skipping, looped directory detected\n",
            "/usr/share/fonts/opentype/ipaexfont-gothic: skipping, looped directory detected\n",
            "/usr/share/fonts/opentype/ipaexfont-mincho: skipping, looped directory detected\n",
            "/usr/share/fonts/opentype/ipafont-gothic: skipping, looped directory detected\n",
            "/usr/share/fonts/opentype/ipafont-mincho: skipping, looped directory detected\n",
            "/usr/share/fonts/opentype/tlwg: skipping, looped directory detected\n",
            "/usr/share/fonts/opentype/urw-base35: skipping, looped directory detected\n",
            "/usr/share/fonts/truetype/arphic: skipping, looped directory detected\n",
            "/usr/share/fonts/truetype/arphic-bkai00mp: skipping, looped directory detected\n",
            "/usr/share/fonts/truetype/arphic-bsmi00lp: skipping, looped directory detected\n",
            "/usr/share/fonts/truetype/arphic-gbsn00lp: skipping, looped directory detected\n",
            "/usr/share/fonts/truetype/arphic-gkai00mp: skipping, looped directory detected\n",
            "/usr/share/fonts/truetype/baekmuk: skipping, looped directory detected\n",
            "/usr/share/fonts/truetype/droid: skipping, looped directory detected\n",
            "/usr/share/fonts/truetype/fandol: skipping, looped directory detected\n",
            "/usr/share/fonts/truetype/humor-sans: skipping, looped directory detected\n",
            "/usr/share/fonts/truetype/lato: skipping, looped directory detected\n",
            "/usr/share/fonts/truetype/liberation: skipping, looped directory detected\n",
            "/usr/share/fonts/truetype/noto: skipping, looped directory detected\n",
            "/usr/share/fonts/truetype/padauk: skipping, looped directory detected\n",
            "/usr/share/fonts/truetype/unfonts-core: skipping, looped directory detected\n",
            "/usr/share/fonts/truetype/unfonts-extra: skipping, looped directory detected\n",
            "/usr/share/fonts/type1/texlive-fonts-recommended: skipping, looped directory detected\n",
            "/usr/share/fonts/type1/urw-base35: skipping, looped directory detected\n",
            "/usr/share/fonts/X11/encodings/large: skipping, looped directory detected\n",
            "/var/cache/fontconfig: cleaning cache directory\n",
            "/root/.cache/fontconfig: not cleaning non-existent cache directory\n",
            "/root/.fontconfig: not cleaning non-existent cache directory\n",
            "fc-cache: succeeded\n"
          ]
        }
      ]
    },
    {
      "cell_type": "code",
      "source": [
        "!apt-get install texlive-lang-chinese"
      ],
      "metadata": {
        "colab": {
          "base_uri": "https://localhost:8080/"
        },
        "id": "D-lSMyx_ItAA",
        "outputId": "0db409e0-aeb0-4be6-bda6-c3a49facceec",
        "collapsed": true
      },
      "execution_count": null,
      "outputs": [
        {
          "output_type": "stream",
          "name": "stdout",
          "text": [
            "Reading package lists... Done\n",
            "Building dependency tree... Done\n",
            "Reading state information... Done\n",
            "The following additional packages will be installed:\n",
            "  fonts-arphic-bkai00mp fonts-arphic-bsmi00lp fonts-arphic-gbsn00lp fonts-arphic-gkai00mp\n",
            "  fonts-arphic-uming fonts-baekmuk fonts-ipaexfont-gothic fonts-ipaexfont-mincho\n",
            "  fonts-ipafont-gothic fonts-ipafont-mincho fonts-sil-padauk fonts-tlwg-garuda\n",
            "  fonts-tlwg-garuda-otf fonts-tlwg-kinnari fonts-tlwg-kinnari-otf fonts-tlwg-laksaman\n",
            "  fonts-tlwg-laksaman-otf fonts-tlwg-loma fonts-tlwg-loma-otf fonts-tlwg-mono fonts-tlwg-mono-otf\n",
            "  fonts-tlwg-norasi fonts-tlwg-norasi-otf fonts-tlwg-purisa fonts-tlwg-purisa-otf\n",
            "  fonts-tlwg-sawasdee fonts-tlwg-sawasdee-otf fonts-tlwg-typewriter fonts-tlwg-typewriter-otf\n",
            "  fonts-tlwg-typist fonts-tlwg-typist-otf fonts-tlwg-typo fonts-tlwg-typo-otf fonts-tlwg-umpush\n",
            "  fonts-tlwg-umpush-otf fonts-tlwg-waree fonts-tlwg-waree-otf fonts-unfonts-core\n",
            "  fonts-unfonts-extra ghostscript latex-cjk-all latex-cjk-chinese latex-cjk-chinese-arphic-bkai00mp\n",
            "  latex-cjk-chinese-arphic-bsmi00lp latex-cjk-chinese-arphic-gbsn00lp\n",
            "  latex-cjk-chinese-arphic-gkai00mp latex-cjk-common latex-cjk-japanese latex-cjk-japanese-wadalab\n",
            "  latex-cjk-korean latex-cjk-thai ps2eps texlive-font-utils texlive-lang-cjk texlive-lang-japanese\n",
            "  texlive-lang-korean texlive-lang-other\n",
            "Suggested packages:\n",
            "  ghostscript-x hbf-cns40-b5 hbf-jfs56 hbf-kanji48 lcdf-typetools psutils\n",
            "The following NEW packages will be installed:\n",
            "  fonts-arphic-bkai00mp fonts-arphic-bsmi00lp fonts-arphic-gbsn00lp fonts-arphic-gkai00mp\n",
            "  fonts-arphic-uming fonts-baekmuk fonts-ipaexfont-gothic fonts-ipaexfont-mincho\n",
            "  fonts-ipafont-gothic fonts-ipafont-mincho fonts-sil-padauk fonts-tlwg-garuda\n",
            "  fonts-tlwg-garuda-otf fonts-tlwg-kinnari fonts-tlwg-kinnari-otf fonts-tlwg-laksaman\n",
            "  fonts-tlwg-laksaman-otf fonts-tlwg-loma fonts-tlwg-loma-otf fonts-tlwg-mono fonts-tlwg-mono-otf\n",
            "  fonts-tlwg-norasi fonts-tlwg-norasi-otf fonts-tlwg-purisa fonts-tlwg-purisa-otf\n",
            "  fonts-tlwg-sawasdee fonts-tlwg-sawasdee-otf fonts-tlwg-typewriter fonts-tlwg-typewriter-otf\n",
            "  fonts-tlwg-typist fonts-tlwg-typist-otf fonts-tlwg-typo fonts-tlwg-typo-otf fonts-tlwg-umpush\n",
            "  fonts-tlwg-umpush-otf fonts-tlwg-waree fonts-tlwg-waree-otf fonts-unfonts-core\n",
            "  fonts-unfonts-extra ghostscript latex-cjk-all latex-cjk-chinese latex-cjk-chinese-arphic-bkai00mp\n",
            "  latex-cjk-chinese-arphic-bsmi00lp latex-cjk-chinese-arphic-gbsn00lp\n",
            "  latex-cjk-chinese-arphic-gkai00mp latex-cjk-common latex-cjk-japanese latex-cjk-japanese-wadalab\n",
            "  latex-cjk-korean latex-cjk-thai ps2eps texlive-font-utils texlive-lang-chinese texlive-lang-cjk\n",
            "  texlive-lang-japanese texlive-lang-korean texlive-lang-other\n",
            "0 upgraded, 58 newly installed, 0 to remove and 49 not upgraded.\n",
            "Need to get 337 MB of archives.\n",
            "After this operation, 881 MB of additional disk space will be used.\n",
            "Get:1 http://archive.ubuntu.com/ubuntu jammy/universe amd64 fonts-arphic-bkai00mp all 2.10-21 [4,953 kB]\n",
            "Get:2 http://archive.ubuntu.com/ubuntu jammy/universe amd64 fonts-arphic-bsmi00lp all 2.10-18 [3,831 kB]\n",
            "Get:3 http://archive.ubuntu.com/ubuntu jammy/main amd64 fonts-arphic-uming all 0.2.20080216.2-10ubuntu2 [7,933 kB]\n",
            "Get:4 http://archive.ubuntu.com/ubuntu jammy/universe amd64 fonts-ipafont-gothic all 00303-21ubuntu1 [3,513 kB]\n",
            "Get:5 http://archive.ubuntu.com/ubuntu jammy/universe amd64 fonts-ipafont-mincho all 00303-21ubuntu1 [4,724 kB]\n",
            "Get:6 http://archive.ubuntu.com/ubuntu jammy/universe amd64 fonts-unfonts-core all 1:1.0.2-080608-16 [14.9 MB]\n",
            "Get:7 http://archive.ubuntu.com/ubuntu jammy/universe amd64 fonts-unfonts-extra all 1:1.0.2-080608+dfsg-9 [6,570 kB]\n",
            "Get:8 http://archive.ubuntu.com/ubuntu jammy/universe amd64 fonts-arphic-gbsn00lp all 2.11-16 [1,724 kB]\n",
            "Get:9 http://archive.ubuntu.com/ubuntu jammy/universe amd64 fonts-arphic-gkai00mp all 2.11-16 [2,292 kB]\n",
            "Get:10 http://archive.ubuntu.com/ubuntu jammy/universe amd64 fonts-baekmuk all 2.2-13 [8,764 kB]\n",
            "Get:11 http://archive.ubuntu.com/ubuntu jammy/universe amd64 fonts-ipaexfont-gothic all 00401-3ubuntu1 [3,341 kB]\n",
            "Get:12 http://archive.ubuntu.com/ubuntu jammy/universe amd64 fonts-ipaexfont-mincho all 00401-3ubuntu1 [4,604 kB]\n",
            "Get:13 http://archive.ubuntu.com/ubuntu jammy/main amd64 fonts-sil-padauk all 5.000-3 [1,439 kB]\n",
            "Get:14 http://archive.ubuntu.com/ubuntu jammy/universe amd64 fonts-tlwg-garuda-otf all 1:0.7.3-1 [113 kB]\n",
            "Get:15 http://archive.ubuntu.com/ubuntu jammy/main amd64 fonts-tlwg-garuda all 1:0.7.3-1 [4,360 B]\n",
            "Get:16 http://archive.ubuntu.com/ubuntu jammy/universe amd64 fonts-tlwg-kinnari-otf all 1:0.7.3-1 [187 kB]\n",
            "Get:17 http://archive.ubuntu.com/ubuntu jammy/main amd64 fonts-tlwg-kinnari all 1:0.7.3-1 [4,362 B]\n",
            "Get:18 http://archive.ubuntu.com/ubuntu jammy/universe amd64 fonts-tlwg-laksaman-otf all 1:0.7.3-1 [139 kB]\n",
            "Get:19 http://archive.ubuntu.com/ubuntu jammy/main amd64 fonts-tlwg-laksaman all 1:0.7.3-1 [4,346 B]\n",
            "Get:20 http://archive.ubuntu.com/ubuntu jammy/universe amd64 fonts-tlwg-loma-otf all 1:0.7.3-1 [107 kB]\n",
            "Get:21 http://archive.ubuntu.com/ubuntu jammy/main amd64 fonts-tlwg-loma all 1:0.7.3-1 [4,102 B]\n",
            "Get:22 http://archive.ubuntu.com/ubuntu jammy/universe amd64 fonts-tlwg-mono-otf all 1:0.7.3-1 [101 kB]\n",
            "Get:23 http://archive.ubuntu.com/ubuntu jammy/main amd64 fonts-tlwg-mono all 1:0.7.3-1 [4,072 B]\n",
            "Get:24 http://archive.ubuntu.com/ubuntu jammy/universe amd64 fonts-tlwg-norasi-otf all 1:0.7.3-1 [219 kB]\n",
            "Get:25 http://archive.ubuntu.com/ubuntu jammy/main amd64 fonts-tlwg-norasi all 1:0.7.3-1 [4,082 B]\n",
            "Get:26 http://archive.ubuntu.com/ubuntu jammy/universe amd64 fonts-tlwg-purisa-otf all 1:0.7.3-1 [208 kB]\n",
            "Get:27 http://archive.ubuntu.com/ubuntu jammy/main amd64 fonts-tlwg-purisa all 1:0.7.3-1 [3,556 B]\n",
            "Get:28 http://archive.ubuntu.com/ubuntu jammy/universe amd64 fonts-tlwg-sawasdee-otf all 1:0.7.3-1 [101 kB]\n",
            "Get:29 http://archive.ubuntu.com/ubuntu jammy/main amd64 fonts-tlwg-sawasdee all 1:0.7.3-1 [3,574 B]\n",
            "Get:30 http://archive.ubuntu.com/ubuntu jammy/universe amd64 fonts-tlwg-typewriter-otf all 1:0.7.3-1 [105 kB]\n",
            "Get:31 http://archive.ubuntu.com/ubuntu jammy/main amd64 fonts-tlwg-typewriter all 1:0.7.3-1 [3,630 B]\n",
            "Get:32 http://archive.ubuntu.com/ubuntu jammy/universe amd64 fonts-tlwg-typist-otf all 1:0.7.3-1 [108 kB]\n",
            "Get:33 http://archive.ubuntu.com/ubuntu jammy/main amd64 fonts-tlwg-typist all 1:0.7.3-1 [4,066 B]\n",
            "Get:34 http://archive.ubuntu.com/ubuntu jammy/universe amd64 fonts-tlwg-typo-otf all 1:0.7.3-1 [109 kB]\n",
            "Get:35 http://archive.ubuntu.com/ubuntu jammy/main amd64 fonts-tlwg-typo all 1:0.7.3-1 [4,106 B]\n",
            "Get:36 http://archive.ubuntu.com/ubuntu jammy/universe amd64 fonts-tlwg-umpush-otf all 1:0.7.3-1 [146 kB]\n",
            "Get:37 http://archive.ubuntu.com/ubuntu jammy/main amd64 fonts-tlwg-umpush all 1:0.7.3-1 [4,340 B]\n",
            "Get:38 http://archive.ubuntu.com/ubuntu jammy/universe amd64 fonts-tlwg-waree-otf all 1:0.7.3-1 [117 kB]\n",
            "Get:39 http://archive.ubuntu.com/ubuntu jammy/main amd64 fonts-tlwg-waree all 1:0.7.3-1 [4,092 B]\n",
            "Get:40 http://archive.ubuntu.com/ubuntu jammy-updates/main amd64 ghostscript amd64 9.55.0~dfsg1-0ubuntu5.9 [49.5 kB]\n",
            "Get:41 http://archive.ubuntu.com/ubuntu jammy/universe amd64 texlive-font-utils all 2021.20220204-1 [4,097 kB]\n",
            "Get:42 http://archive.ubuntu.com/ubuntu jammy/universe amd64 latex-cjk-common amd64 4.8.4+git20170127-4 [206 kB]\n",
            "Get:43 http://archive.ubuntu.com/ubuntu jammy/universe amd64 latex-cjk-chinese amd64 4.8.4+git20170127-4 [58.5 kB]\n",
            "Get:44 http://archive.ubuntu.com/ubuntu jammy/universe amd64 latex-cjk-japanese amd64 4.8.4+git20170127-4 [37.1 kB]\n",
            "Get:45 http://archive.ubuntu.com/ubuntu jammy/universe amd64 latex-cjk-korean all 4.8.4+git20170127-4 [16.7 kB]\n",
            "Get:46 http://archive.ubuntu.com/ubuntu jammy/universe amd64 texlive-lang-other all 2021.20220204-1 [33.9 MB]\n",
            "Get:47 http://archive.ubuntu.com/ubuntu jammy/universe amd64 latex-cjk-thai all 4.8.4+git20170127-4 [76.0 kB]\n",
            "Get:48 http://archive.ubuntu.com/ubuntu jammy/universe amd64 latex-cjk-chinese-arphic-bsmi00lp all 1.23+nmu1 [15.1 MB]\n",
            "Get:49 http://archive.ubuntu.com/ubuntu jammy/universe amd64 latex-cjk-chinese-arphic-bkai00mp all 1.23+nmu1 [16.1 MB]\n",
            "Get:50 http://archive.ubuntu.com/ubuntu jammy/universe amd64 latex-cjk-chinese-arphic-gbsn00lp all 1.23+nmu1 [6,662 kB]\n",
            "Get:51 http://archive.ubuntu.com/ubuntu jammy/universe amd64 latex-cjk-chinese-arphic-gkai00mp all 1.23+nmu1 [7,382 kB]\n",
            "Get:52 http://archive.ubuntu.com/ubuntu jammy/universe amd64 latex-cjk-japanese-wadalab all 0.20050817-17.1 [17.8 MB]\n",
            "Get:53 http://archive.ubuntu.com/ubuntu jammy/universe amd64 latex-cjk-all all 4.8.4+git20170127-4 [930 B]\n",
            "Get:54 http://archive.ubuntu.com/ubuntu jammy/universe amd64 ps2eps amd64 1.68+binaryfree-3 [33.5 kB]\n",
            "Get:55 http://archive.ubuntu.com/ubuntu jammy/universe amd64 texlive-lang-cjk all 2021.20220204-1 [1,514 kB]\n",
            "Get:56 http://archive.ubuntu.com/ubuntu jammy/universe amd64 texlive-lang-chinese all 2021.20220204-1 [47.6 MB]\n",
            "Get:57 http://archive.ubuntu.com/ubuntu jammy/universe amd64 texlive-lang-japanese all 2021.20220204-1 [74.8 MB]\n",
            "Get:58 http://archive.ubuntu.com/ubuntu jammy/universe amd64 texlive-lang-korean all 2021.20220204-1 [41.6 MB]\n",
            "Fetched 337 MB in 7s (48.6 MB/s)\n",
            "Extracting templates from packages: 100%\n",
            "Selecting previously unselected package fonts-arphic-bkai00mp.\n",
            "(Reading database ... 160426 files and directories currently installed.)\n",
            "Preparing to unpack .../00-fonts-arphic-bkai00mp_2.10-21_all.deb ...\n",
            "Unpacking fonts-arphic-bkai00mp (2.10-21) ...\n",
            "Selecting previously unselected package fonts-arphic-bsmi00lp.\n",
            "Preparing to unpack .../01-fonts-arphic-bsmi00lp_2.10-18_all.deb ...\n",
            "Unpacking fonts-arphic-bsmi00lp (2.10-18) ...\n",
            "Selecting previously unselected package fonts-arphic-uming.\n",
            "Preparing to unpack .../02-fonts-arphic-uming_0.2.20080216.2-10ubuntu2_all.deb ...\n",
            "Unpacking fonts-arphic-uming (0.2.20080216.2-10ubuntu2) ...\n",
            "Selecting previously unselected package fonts-ipafont-gothic.\n",
            "Preparing to unpack .../03-fonts-ipafont-gothic_00303-21ubuntu1_all.deb ...\n",
            "Unpacking fonts-ipafont-gothic (00303-21ubuntu1) ...\n",
            "Selecting previously unselected package fonts-ipafont-mincho.\n",
            "Preparing to unpack .../04-fonts-ipafont-mincho_00303-21ubuntu1_all.deb ...\n",
            "Unpacking fonts-ipafont-mincho (00303-21ubuntu1) ...\n",
            "Selecting previously unselected package fonts-unfonts-core.\n",
            "Preparing to unpack .../05-fonts-unfonts-core_1%3a1.0.2-080608-16_all.deb ...\n",
            "Unpacking fonts-unfonts-core (1:1.0.2-080608-16) ...\n",
            "Selecting previously unselected package fonts-unfonts-extra.\n",
            "Preparing to unpack .../06-fonts-unfonts-extra_1%3a1.0.2-080608+dfsg-9_all.deb ...\n",
            "Unpacking fonts-unfonts-extra (1:1.0.2-080608+dfsg-9) ...\n",
            "Selecting previously unselected package fonts-arphic-gbsn00lp.\n",
            "Preparing to unpack .../07-fonts-arphic-gbsn00lp_2.11-16_all.deb ...\n",
            "Unpacking fonts-arphic-gbsn00lp (2.11-16) ...\n",
            "Selecting previously unselected package fonts-arphic-gkai00mp.\n",
            "Preparing to unpack .../08-fonts-arphic-gkai00mp_2.11-16_all.deb ...\n",
            "Unpacking fonts-arphic-gkai00mp (2.11-16) ...\n",
            "Selecting previously unselected package fonts-baekmuk.\n",
            "Preparing to unpack .../09-fonts-baekmuk_2.2-13_all.deb ...\n",
            "Unpacking fonts-baekmuk (2.2-13) ...\n",
            "Selecting previously unselected package fonts-ipaexfont-gothic.\n",
            "Preparing to unpack .../10-fonts-ipaexfont-gothic_00401-3ubuntu1_all.deb ...\n",
            "Unpacking fonts-ipaexfont-gothic (00401-3ubuntu1) ...\n",
            "Selecting previously unselected package fonts-ipaexfont-mincho.\n",
            "Preparing to unpack .../11-fonts-ipaexfont-mincho_00401-3ubuntu1_all.deb ...\n",
            "Unpacking fonts-ipaexfont-mincho (00401-3ubuntu1) ...\n",
            "Selecting previously unselected package fonts-sil-padauk.\n",
            "Preparing to unpack .../12-fonts-sil-padauk_5.000-3_all.deb ...\n",
            "Unpacking fonts-sil-padauk (5.000-3) ...\n",
            "Selecting previously unselected package fonts-tlwg-garuda-otf.\n",
            "Preparing to unpack .../13-fonts-tlwg-garuda-otf_1%3a0.7.3-1_all.deb ...\n",
            "Unpacking fonts-tlwg-garuda-otf (1:0.7.3-1) ...\n",
            "Selecting previously unselected package fonts-tlwg-garuda.\n",
            "Preparing to unpack .../14-fonts-tlwg-garuda_1%3a0.7.3-1_all.deb ...\n",
            "Unpacking fonts-tlwg-garuda (1:0.7.3-1) ...\n",
            "Selecting previously unselected package fonts-tlwg-kinnari-otf.\n",
            "Preparing to unpack .../15-fonts-tlwg-kinnari-otf_1%3a0.7.3-1_all.deb ...\n",
            "Unpacking fonts-tlwg-kinnari-otf (1:0.7.3-1) ...\n",
            "Selecting previously unselected package fonts-tlwg-kinnari.\n",
            "Preparing to unpack .../16-fonts-tlwg-kinnari_1%3a0.7.3-1_all.deb ...\n",
            "Unpacking fonts-tlwg-kinnari (1:0.7.3-1) ...\n",
            "Selecting previously unselected package fonts-tlwg-laksaman-otf.\n",
            "Preparing to unpack .../17-fonts-tlwg-laksaman-otf_1%3a0.7.3-1_all.deb ...\n",
            "Unpacking fonts-tlwg-laksaman-otf (1:0.7.3-1) ...\n",
            "Selecting previously unselected package fonts-tlwg-laksaman.\n",
            "Preparing to unpack .../18-fonts-tlwg-laksaman_1%3a0.7.3-1_all.deb ...\n",
            "Unpacking fonts-tlwg-laksaman (1:0.7.3-1) ...\n",
            "Selecting previously unselected package fonts-tlwg-loma-otf.\n",
            "Preparing to unpack .../19-fonts-tlwg-loma-otf_1%3a0.7.3-1_all.deb ...\n",
            "Unpacking fonts-tlwg-loma-otf (1:0.7.3-1) ...\n",
            "Selecting previously unselected package fonts-tlwg-loma.\n",
            "Preparing to unpack .../20-fonts-tlwg-loma_1%3a0.7.3-1_all.deb ...\n",
            "Unpacking fonts-tlwg-loma (1:0.7.3-1) ...\n",
            "Selecting previously unselected package fonts-tlwg-mono-otf.\n",
            "Preparing to unpack .../21-fonts-tlwg-mono-otf_1%3a0.7.3-1_all.deb ...\n",
            "Unpacking fonts-tlwg-mono-otf (1:0.7.3-1) ...\n",
            "Selecting previously unselected package fonts-tlwg-mono.\n",
            "Preparing to unpack .../22-fonts-tlwg-mono_1%3a0.7.3-1_all.deb ...\n",
            "Unpacking fonts-tlwg-mono (1:0.7.3-1) ...\n",
            "Selecting previously unselected package fonts-tlwg-norasi-otf.\n",
            "Preparing to unpack .../23-fonts-tlwg-norasi-otf_1%3a0.7.3-1_all.deb ...\n",
            "Unpacking fonts-tlwg-norasi-otf (1:0.7.3-1) ...\n",
            "Selecting previously unselected package fonts-tlwg-norasi.\n",
            "Preparing to unpack .../24-fonts-tlwg-norasi_1%3a0.7.3-1_all.deb ...\n",
            "Unpacking fonts-tlwg-norasi (1:0.7.3-1) ...\n",
            "Selecting previously unselected package fonts-tlwg-purisa-otf.\n",
            "Preparing to unpack .../25-fonts-tlwg-purisa-otf_1%3a0.7.3-1_all.deb ...\n",
            "Unpacking fonts-tlwg-purisa-otf (1:0.7.3-1) ...\n",
            "Selecting previously unselected package fonts-tlwg-purisa.\n",
            "Preparing to unpack .../26-fonts-tlwg-purisa_1%3a0.7.3-1_all.deb ...\n",
            "Unpacking fonts-tlwg-purisa (1:0.7.3-1) ...\n",
            "Selecting previously unselected package fonts-tlwg-sawasdee-otf.\n",
            "Preparing to unpack .../27-fonts-tlwg-sawasdee-otf_1%3a0.7.3-1_all.deb ...\n",
            "Unpacking fonts-tlwg-sawasdee-otf (1:0.7.3-1) ...\n",
            "Selecting previously unselected package fonts-tlwg-sawasdee.\n",
            "Preparing to unpack .../28-fonts-tlwg-sawasdee_1%3a0.7.3-1_all.deb ...\n",
            "Unpacking fonts-tlwg-sawasdee (1:0.7.3-1) ...\n",
            "Selecting previously unselected package fonts-tlwg-typewriter-otf.\n",
            "Preparing to unpack .../29-fonts-tlwg-typewriter-otf_1%3a0.7.3-1_all.deb ...\n",
            "Unpacking fonts-tlwg-typewriter-otf (1:0.7.3-1) ...\n",
            "Selecting previously unselected package fonts-tlwg-typewriter.\n",
            "Preparing to unpack .../30-fonts-tlwg-typewriter_1%3a0.7.3-1_all.deb ...\n",
            "Unpacking fonts-tlwg-typewriter (1:0.7.3-1) ...\n",
            "Selecting previously unselected package fonts-tlwg-typist-otf.\n",
            "Preparing to unpack .../31-fonts-tlwg-typist-otf_1%3a0.7.3-1_all.deb ...\n",
            "Unpacking fonts-tlwg-typist-otf (1:0.7.3-1) ...\n",
            "Selecting previously unselected package fonts-tlwg-typist.\n",
            "Preparing to unpack .../32-fonts-tlwg-typist_1%3a0.7.3-1_all.deb ...\n",
            "Unpacking fonts-tlwg-typist (1:0.7.3-1) ...\n",
            "Selecting previously unselected package fonts-tlwg-typo-otf.\n",
            "Preparing to unpack .../33-fonts-tlwg-typo-otf_1%3a0.7.3-1_all.deb ...\n",
            "Unpacking fonts-tlwg-typo-otf (1:0.7.3-1) ...\n",
            "Selecting previously unselected package fonts-tlwg-typo.\n",
            "Preparing to unpack .../34-fonts-tlwg-typo_1%3a0.7.3-1_all.deb ...\n",
            "Unpacking fonts-tlwg-typo (1:0.7.3-1) ...\n",
            "Selecting previously unselected package fonts-tlwg-umpush-otf.\n",
            "Preparing to unpack .../35-fonts-tlwg-umpush-otf_1%3a0.7.3-1_all.deb ...\n",
            "Unpacking fonts-tlwg-umpush-otf (1:0.7.3-1) ...\n",
            "Selecting previously unselected package fonts-tlwg-umpush.\n",
            "Preparing to unpack .../36-fonts-tlwg-umpush_1%3a0.7.3-1_all.deb ...\n",
            "Unpacking fonts-tlwg-umpush (1:0.7.3-1) ...\n",
            "Selecting previously unselected package fonts-tlwg-waree-otf.\n",
            "Preparing to unpack .../37-fonts-tlwg-waree-otf_1%3a0.7.3-1_all.deb ...\n",
            "Unpacking fonts-tlwg-waree-otf (1:0.7.3-1) ...\n",
            "Selecting previously unselected package fonts-tlwg-waree.\n",
            "Preparing to unpack .../38-fonts-tlwg-waree_1%3a0.7.3-1_all.deb ...\n",
            "Unpacking fonts-tlwg-waree (1:0.7.3-1) ...\n",
            "Selecting previously unselected package ghostscript.\n",
            "Preparing to unpack .../39-ghostscript_9.55.0~dfsg1-0ubuntu5.9_amd64.deb ...\n",
            "Unpacking ghostscript (9.55.0~dfsg1-0ubuntu5.9) ...\n",
            "Selecting previously unselected package texlive-font-utils.\n",
            "Preparing to unpack .../40-texlive-font-utils_2021.20220204-1_all.deb ...\n",
            "Unpacking texlive-font-utils (2021.20220204-1) ...\n",
            "Selecting previously unselected package latex-cjk-common.\n",
            "Preparing to unpack .../41-latex-cjk-common_4.8.4+git20170127-4_amd64.deb ...\n",
            "Unpacking latex-cjk-common (4.8.4+git20170127-4) ...\n",
            "Selecting previously unselected package latex-cjk-chinese.\n",
            "Preparing to unpack .../42-latex-cjk-chinese_4.8.4+git20170127-4_amd64.deb ...\n",
            "Unpacking latex-cjk-chinese (4.8.4+git20170127-4) ...\n",
            "Selecting previously unselected package latex-cjk-japanese.\n",
            "Preparing to unpack .../43-latex-cjk-japanese_4.8.4+git20170127-4_amd64.deb ...\n",
            "Unpacking latex-cjk-japanese (4.8.4+git20170127-4) ...\n",
            "Selecting previously unselected package latex-cjk-korean.\n",
            "Preparing to unpack .../44-latex-cjk-korean_4.8.4+git20170127-4_all.deb ...\n",
            "Unpacking latex-cjk-korean (4.8.4+git20170127-4) ...\n",
            "Selecting previously unselected package texlive-lang-other.\n",
            "Preparing to unpack .../45-texlive-lang-other_2021.20220204-1_all.deb ...\n",
            "Unpacking texlive-lang-other (2021.20220204-1) ...\n",
            "Selecting previously unselected package latex-cjk-thai.\n",
            "Preparing to unpack .../46-latex-cjk-thai_4.8.4+git20170127-4_all.deb ...\n",
            "Unpacking latex-cjk-thai (4.8.4+git20170127-4) ...\n",
            "Selecting previously unselected package latex-cjk-chinese-arphic-bsmi00lp.\n",
            "Preparing to unpack .../47-latex-cjk-chinese-arphic-bsmi00lp_1.23+nmu1_all.deb ...\n",
            "Unpacking latex-cjk-chinese-arphic-bsmi00lp (1.23+nmu1) ...\n",
            "Selecting previously unselected package latex-cjk-chinese-arphic-bkai00mp.\n",
            "Preparing to unpack .../48-latex-cjk-chinese-arphic-bkai00mp_1.23+nmu1_all.deb ...\n",
            "Unpacking latex-cjk-chinese-arphic-bkai00mp (1.23+nmu1) ...\n",
            "Selecting previously unselected package latex-cjk-chinese-arphic-gbsn00lp.\n",
            "Preparing to unpack .../49-latex-cjk-chinese-arphic-gbsn00lp_1.23+nmu1_all.deb ...\n",
            "Unpacking latex-cjk-chinese-arphic-gbsn00lp (1.23+nmu1) ...\n",
            "Selecting previously unselected package latex-cjk-chinese-arphic-gkai00mp.\n",
            "Preparing to unpack .../50-latex-cjk-chinese-arphic-gkai00mp_1.23+nmu1_all.deb ...\n",
            "Unpacking latex-cjk-chinese-arphic-gkai00mp (1.23+nmu1) ...\n",
            "Selecting previously unselected package latex-cjk-japanese-wadalab.\n",
            "Preparing to unpack .../51-latex-cjk-japanese-wadalab_0.20050817-17.1_all.deb ...\n",
            "Unpacking latex-cjk-japanese-wadalab (0.20050817-17.1) ...\n",
            "Selecting previously unselected package latex-cjk-all.\n",
            "Preparing to unpack .../52-latex-cjk-all_4.8.4+git20170127-4_all.deb ...\n",
            "Unpacking latex-cjk-all (4.8.4+git20170127-4) ...\n",
            "Selecting previously unselected package ps2eps.\n",
            "Preparing to unpack .../53-ps2eps_1.68+binaryfree-3_amd64.deb ...\n",
            "Unpacking ps2eps (1.68+binaryfree-3) ...\n",
            "Selecting previously unselected package texlive-lang-cjk.\n",
            "Preparing to unpack .../54-texlive-lang-cjk_2021.20220204-1_all.deb ...\n",
            "Unpacking texlive-lang-cjk (2021.20220204-1) ...\n",
            "Selecting previously unselected package texlive-lang-chinese.\n",
            "Preparing to unpack .../55-texlive-lang-chinese_2021.20220204-1_all.deb ...\n",
            "Unpacking texlive-lang-chinese (2021.20220204-1) ...\n",
            "Selecting previously unselected package texlive-lang-japanese.\n",
            "Preparing to unpack .../56-texlive-lang-japanese_2021.20220204-1_all.deb ...\n",
            "Unpacking texlive-lang-japanese (2021.20220204-1) ...\n",
            "Selecting previously unselected package texlive-lang-korean.\n",
            "Preparing to unpack .../57-texlive-lang-korean_2021.20220204-1_all.deb ...\n",
            "Unpacking texlive-lang-korean (2021.20220204-1) ...\n",
            "Setting up fonts-tlwg-purisa-otf (1:0.7.3-1) ...\n",
            "Setting up fonts-unfonts-core (1:1.0.2-080608-16) ...\n",
            "Setting up latex-cjk-chinese-arphic-gbsn00lp (1.23+nmu1) ...\n",
            "Setting up fonts-tlwg-umpush-otf (1:0.7.3-1) ...\n",
            "Setting up fonts-tlwg-garuda-otf (1:0.7.3-1) ...\n",
            "Setting up fonts-arphic-bkai00mp (2.10-21) ...\n",
            "Setting up latex-cjk-chinese-arphic-bkai00mp (1.23+nmu1) ...\n",
            "Setting up latex-cjk-chinese-arphic-gkai00mp (1.23+nmu1) ...\n",
            "Setting up fonts-tlwg-typo-otf (1:0.7.3-1) ...\n",
            "Setting up fonts-arphic-gkai00mp (2.11-16) ...\n",
            "Setting up fonts-sil-padauk (5.000-3) ...\n",
            "Setting up fonts-tlwg-norasi-otf (1:0.7.3-1) ...\n",
            "Setting up fonts-tlwg-mono-otf (1:0.7.3-1) ...\n",
            "Setting up fonts-arphic-bsmi00lp (2.10-18) ...\n",
            "Setting up fonts-arphic-gbsn00lp (2.11-16) ...\n",
            "Setting up fonts-arphic-uming (0.2.20080216.2-10ubuntu2) ...\n",
            "Setting up fonts-ipaexfont-mincho (00401-3ubuntu1) ...\n",
            "update-alternatives: using /usr/share/fonts/opentype/ipaexfont-mincho/ipaexm.ttf to provide /usr/share/fonts/truetype/fonts-japanese-mincho.ttf (fonts-japanese-mincho.ttf) in auto mode\n",
            "Setting up fonts-tlwg-umpush (1:0.7.3-1) ...\n",
            "Setting up texlive-font-utils (2021.20220204-1) ...\n",
            "Setting up ghostscript (9.55.0~dfsg1-0ubuntu5.9) ...\n",
            "Setting up fonts-tlwg-mono (1:0.7.3-1) ...\n",
            "Setting up fonts-ipaexfont-gothic (00401-3ubuntu1) ...\n",
            "update-alternatives: using /usr/share/fonts/opentype/ipaexfont-gothic/ipaexg.ttf to provide /usr/share/fonts/truetype/fonts-japanese-gothic.ttf (fonts-japanese-gothic.ttf) in auto mode\n",
            "Setting up fonts-unfonts-extra (1:1.0.2-080608+dfsg-9) ...\n",
            "Setting up fonts-tlwg-typewriter-otf (1:0.7.3-1) ...\n",
            "Setting up fonts-tlwg-purisa (1:0.7.3-1) ...\n",
            "Setting up fonts-tlwg-loma-otf (1:0.7.3-1) ...\n",
            "Setting up fonts-tlwg-laksaman-otf (1:0.7.3-1) ...\n",
            "Setting up fonts-tlwg-laksaman (1:0.7.3-1) ...\n",
            "Setting up ps2eps (1.68+binaryfree-3) ...\n",
            "Setting up fonts-tlwg-norasi (1:0.7.3-1) ...\n",
            "Setting up fonts-tlwg-waree-otf (1:0.7.3-1) ...\n",
            "Setting up fonts-tlwg-sawasdee-otf (1:0.7.3-1) ...\n",
            "Setting up fonts-tlwg-typist-otf (1:0.7.3-1) ...\n",
            "Setting up latex-cjk-chinese-arphic-bsmi00lp (1.23+nmu1) ...\n",
            "Setting up fonts-ipafont-mincho (00303-21ubuntu1) ...\n",
            "Setting up fonts-ipafont-gothic (00303-21ubuntu1) ...\n",
            "Setting up fonts-tlwg-garuda (1:0.7.3-1) ...\n",
            "Setting up fonts-baekmuk (2.2-13) ...\n",
            "Setting up fonts-tlwg-loma (1:0.7.3-1) ...\n",
            "Setting up latex-cjk-common (4.8.4+git20170127-4) ...\n",
            "Setting up texlive-lang-cjk (2021.20220204-1) ...\n",
            "Setting up texlive-lang-japanese (2021.20220204-1) ...\n",
            "Setting up fonts-tlwg-kinnari-otf (1:0.7.3-1) ...\n",
            "Setting up latex-cjk-japanese-wadalab (0.20050817-17.1) ...\n",
            "Setting up latex-cjk-korean (4.8.4+git20170127-4) ...\n",
            "Setting up fonts-tlwg-typewriter (1:0.7.3-1) ...\n",
            "Setting up fonts-tlwg-typo (1:0.7.3-1) ...\n",
            "Setting up fonts-tlwg-waree (1:0.7.3-1) ...\n",
            "Setting up texlive-lang-korean (2021.20220204-1) ...\n",
            "Setting up fonts-tlwg-sawasdee (1:0.7.3-1) ...\n",
            "Setting up fonts-tlwg-typist (1:0.7.3-1) ...\n",
            "Setting up texlive-lang-other (2021.20220204-1) ...\n",
            "Setting up texlive-lang-chinese (2021.20220204-1) ...\n",
            "Setting up fonts-tlwg-kinnari (1:0.7.3-1) ...\n",
            "Setting up latex-cjk-japanese (4.8.4+git20170127-4) ...\n",
            "Setting up latex-cjk-chinese (4.8.4+git20170127-4) ...\n",
            "Setting up latex-cjk-thai (4.8.4+git20170127-4) ...\n",
            "Setting up latex-cjk-all (4.8.4+git20170127-4) ...\n",
            "Processing triggers for fontconfig (2.13.1-4.2ubuntu5) ...\n",
            "Processing triggers for man-db (2.10.2-1) ...\n",
            "Processing triggers for tex-common (6.17) ...\n",
            "Running mktexlsr. This may take some time... done.\n",
            "Running updmap-sys. This may take some time... done.\n",
            "Running mktexlsr /var/lib/texmf ... done.\n",
            "Building format(s) --all.\n",
            "\tThis may take some time... done.\n"
          ]
        }
      ]
    },
    {
      "cell_type": "markdown",
      "source": [
        "### 验证编译"
      ],
      "metadata": {
        "id": "9gyo2SEnZIyt"
      }
    },
    {
      "cell_type": "markdown",
      "source": [
        "写入样例example.tex"
      ],
      "metadata": {
        "id": "KjiR_3B-TdMa"
      }
    },
    {
      "cell_type": "code",
      "source": [
        "with open('example.tex', 'w') as f:\n",
        "    f.write(r'''\\documentclass{article}\n",
        "    \\begin{document}\n",
        "    Hello, World!\n",
        "    \\end{document}''')"
      ],
      "metadata": {
        "id": "g1scdlO7EJK0"
      },
      "execution_count": null,
      "outputs": []
    },
    {
      "cell_type": "markdown",
      "source": [
        " 这是一个测试样例"
      ],
      "metadata": {
        "id": "FCgXWcifSyQz"
      }
    },
    {
      "cell_type": "code",
      "source": [
        "# 创建并写入文件，filename参数是带地址文件名\n",
        "filename =\"example.tex\"\n",
        "\n",
        "with open(filename, 'w') as f:\n",
        "    f.write('This is some example text.')"
      ],
      "metadata": {
        "id": "Vi1o5g469yht"
      },
      "execution_count": null,
      "outputs": []
    },
    {
      "cell_type": "markdown",
      "source": [
        "验证使用xelatex编译test.tex成功！"
      ],
      "metadata": {
        "id": "8VkM0ramWCtV"
      }
    },
    {
      "cell_type": "code",
      "source": [
        "import subprocess\n",
        "\n",
        "# 调用 pdflatex 编译\n",
        "result = subprocess.run(['xelatex', 'test.tex'], capture_output=True, text=True)\n",
        "\n",
        "# 输出编译结果\n",
        "print(result.stdout)\n",
        "print(result.stderr)"
      ],
      "metadata": {
        "colab": {
          "base_uri": "https://localhost:8080/"
        },
        "id": "Z0MlCoi4EfhK",
        "outputId": "4cd71464-1b5a-47b2-ee88-e5f2058569ca",
        "collapsed": true
      },
      "execution_count": null,
      "outputs": [
        {
          "output_type": "stream",
          "name": "stdout",
          "text": [
            "This is XeTeX, Version 3.141592653-2.6-0.999993 (TeX Live 2022/dev/Debian) (preloaded format=xelatex)\n",
            " restricted \\write18 enabled.\n",
            "entering extended mode\n",
            "(./test.tex\n",
            "LaTeX2e <2021-11-15> patch level 1\n",
            "L3 programming layer <2022-01-21>\n",
            "(/usr/share/texlive/texmf-dist/tex/latex/base/article.cls\n",
            "Document Class: article 2021/10/04 v1.4n Standard LaTeX document class\n",
            "(/usr/share/texlive/texmf-dist/tex/latex/base/size12.clo))\n",
            "(/usr/share/texlive/texmf-dist/tex/latex/ctex/ctex.sty\n",
            "(/usr/share/texlive/texmf-dist/tex/latex/l3kernel/expl3.sty\n",
            "(/usr/share/texlive/texmf-dist/tex/latex/l3backend/l3backend-xetex.def\n",
            "(|extractbb --version)))\n",
            "(/usr/share/texlive/texmf-dist/tex/latex/l3packages/xparse/xparse.sty)\n",
            "(/usr/share/texlive/texmf-dist/tex/latex/l3packages/l3keys2e/l3keys2e.sty)\n",
            "(/usr/share/texlive/texmf-dist/tex/latex/ctex/ctexhook.sty)\n",
            "(/usr/share/texlive/texmf-dist/tex/latex/ctex/ctexpatch.sty)\n",
            "(/usr/share/texlive/texmf-dist/tex/latex/base/fix-cm.sty\n",
            "(/usr/share/texlive/texmf-dist/tex/latex/base/ts1enc.def))\n",
            "(/usr/share/texlive/texmf-dist/tex/latex/ctex/config/ctexopts.cfg)\n",
            "(/usr/share/texlive/texmf-dist/tex/latex/ctex/engine/ctex-engine-xetex.def\n",
            "(/usr/share/texlive/texmf-dist/tex/xelatex/xecjk/xeCJK.sty\n",
            "(/usr/share/texlive/texmf-dist/tex/latex/l3packages/xtemplate/xtemplate.sty)\n",
            "(/usr/share/texlive/texmf-dist/tex/latex/fontspec/fontspec.sty\n",
            "(/usr/share/texlive/texmf-dist/tex/latex/fontspec/fontspec-xetex.sty\n",
            "(/usr/share/texlive/texmf-dist/tex/latex/base/fontenc.sty)\n",
            "(/usr/share/texlive/texmf-dist/tex/latex/fontspec/fontspec.cfg)))\n",
            "(/usr/share/texlive/texmf-dist/tex/xelatex/xecjk/xeCJK.cfg)))\n",
            "(/usr/share/texlive/texmf-dist/tex/latex/zhnumber/zhnumber.sty\n",
            "(/usr/share/texlive/texmf-dist/tex/latex/zhnumber/zhnumber-utf8.cfg))\n",
            "(/usr/share/texlive/texmf-dist/tex/latex/ctex/scheme/ctex-scheme-chinese.def\n",
            "(/usr/share/texlive/texmf-dist/tex/latex/ctex/config/ctex-name-utf8.cfg))\n",
            "(/usr/share/texlive/texmf-dist/tex/latex/tools/indentfirst.sty)\n",
            "(/usr/share/texlive/texmf-dist/tex/latex/ctex/fontset/ctex-fontset-fandol.def\n",
            "\n",
            "Package fontspec Warning: Font \"FandolSong-Regular\" does not contain requested\n",
            "(fontspec)                Script \"CJK\".\n",
            "\n",
            ")) (/usr/share/texlive/texmf-dist/tex/latex/ctex/config/ctex.cfg)\n",
            "(/usr/share/texlive/texmf-dist/tex/latex/geometry/geometry.sty\n",
            "(/usr/share/texlive/texmf-dist/tex/latex/graphics/keyval.sty)\n",
            "(/usr/share/texlive/texmf-dist/tex/generic/iftex/ifvtex.sty\n",
            "(/usr/share/texlive/texmf-dist/tex/generic/iftex/iftex.sty)))\n",
            "(/usr/share/texlive/texmf-dist/tex/latex/hyperref/hyperref.sty\n",
            "(/usr/share/texlive/texmf-dist/tex/generic/ltxcmds/ltxcmds.sty)\n",
            "(/usr/share/texlive/texmf-dist/tex/generic/pdftexcmds/pdftexcmds.sty\n",
            "(/usr/share/texlive/texmf-dist/tex/generic/infwarerr/infwarerr.sty))\n",
            "(/usr/share/texlive/texmf-dist/tex/generic/kvsetkeys/kvsetkeys.sty)\n",
            "(/usr/share/texlive/texmf-dist/tex/generic/kvdefinekeys/kvdefinekeys.sty)\n",
            "(/usr/share/texlive/texmf-dist/tex/generic/pdfescape/pdfescape.sty)\n",
            "(/usr/share/texlive/texmf-dist/tex/latex/hycolor/hycolor.sty)\n",
            "(/usr/share/texlive/texmf-dist/tex/latex/letltxmacro/letltxmacro.sty)\n",
            "(/usr/share/texlive/texmf-dist/tex/latex/auxhook/auxhook.sty)\n",
            "(/usr/share/texlive/texmf-dist/tex/latex/kvoptions/kvoptions.sty)\n",
            "(/usr/share/texlive/texmf-dist/tex/latex/hyperref/pd1enc.def)\n",
            "(/usr/share/texlive/texmf-dist/tex/latex/hyperref/hyperref-langpatches.def)\n",
            "(/usr/share/texlive/texmf-dist/tex/generic/intcalc/intcalc.sty)\n",
            "(/usr/share/texlive/texmf-dist/tex/generic/etexcmds/etexcmds.sty)\n",
            "(/usr/share/texlive/texmf-dist/tex/latex/hyperref/puenc.def)\n",
            "(/usr/share/texlive/texmf-dist/tex/latex/url/url.sty)\n",
            "(/usr/share/texlive/texmf-dist/tex/generic/bitset/bitset.sty\n",
            "(/usr/share/texlive/texmf-dist/tex/generic/bigintcalc/bigintcalc.sty))\n",
            "(/usr/share/texlive/texmf-dist/tex/latex/base/atbegshi-ltx.sty))\n",
            "(/usr/share/texlive/texmf-dist/tex/latex/hyperref/hxetex.def\n",
            "(/usr/share/texlive/texmf-dist/tex/generic/stringenc/stringenc.sty)\n",
            "(/usr/share/texlive/texmf-dist/tex/latex/rerunfilecheck/rerunfilecheck.sty\n",
            "(/usr/share/texlive/texmf-dist/tex/latex/base/atveryend-ltx.sty)\n",
            "(/usr/share/texlive/texmf-dist/tex/generic/uniquecounter/uniquecounter.sty)))\n",
            "(./test.aux)\n",
            "*geometry* driver: auto-detecting\n",
            "*geometry* detected driver: xetex\n",
            "(/usr/share/texlive/texmf-dist/tex/latex/hyperref/nameref.sty\n",
            "(/usr/share/texlive/texmf-dist/tex/latex/refcount/refcount.sty)\n",
            "(/usr/share/texlive/texmf-dist/tex/generic/gettitlestring/gettitlestring.sty))\n",
            "(./test.out) (./test.out)\n",
            "\n",
            "LaTeX Warning: No \\author given.\n",
            "\n",
            "\n",
            "LaTeX Font Warning: Font shape `TU/FandolSong-Regular(0)/b/it' undefined\n",
            "(Font)              using `TU/FandolSong-Regular(0)/b/n' instead on input line \n",
            "14.\n",
            "\n",
            "[1] [2] [3] [4] [5] (./test.aux)\n",
            "\n",
            "LaTeX Font Warning: Some font shapes were not available, defaults substituted.\n",
            "\n",
            " )\n",
            "Output written on test.pdf (5 pages).\n",
            "Transcript written on test.log.\n",
            "\n",
            "\n"
          ]
        }
      ]
    },
    {
      "cell_type": "markdown",
      "source": [
        "# 程序"
      ],
      "metadata": {
        "id": "q_F2r-JJvDz2"
      }
    },
    {
      "cell_type": "markdown",
      "source": [
        "##程序初始化"
      ],
      "metadata": {
        "id": "sRq98HBDsSN8"
      }
    },
    {
      "cell_type": "markdown",
      "source": [
        "### 库的初始化"
      ],
      "metadata": {
        "id": "XtwXWNHma5k3"
      }
    },
    {
      "cell_type": "code",
      "source": [
        "!pip install markdown2"
      ],
      "metadata": {
        "colab": {
          "base_uri": "https://localhost:8080/"
        },
        "id": "q8tktyk-12m0",
        "outputId": "f4e4feb6-7a68-4473-c1ce-ff5150f2bc99"
      },
      "execution_count": null,
      "outputs": [
        {
          "output_type": "stream",
          "name": "stdout",
          "text": [
            "Requirement already satisfied: markdown2 in /usr/local/lib/python3.10/dist-packages (2.5.0)\n"
          ]
        }
      ]
    },
    {
      "cell_type": "code",
      "source": [
        "import markdown2\n",
        "import re\n",
        "import itertools"
      ],
      "metadata": {
        "id": "tPw6Dp4is2WV"
      },
      "execution_count": null,
      "outputs": []
    },
    {
      "cell_type": "markdown",
      "source": [
        "### 文本样例常数"
      ],
      "metadata": {
        "id": "686xInRAbH7D"
      }
    },
    {
      "cell_type": "code",
      "source": [
        "body_head=r\"\"\"\n",
        "\\begin{document}\n",
        "\\maketitle\n",
        "\"\"\"\n",
        "document_head=r\"\"\"\n",
        "\\documentclass[12pt,a4paper]{article}\n",
        "\\usepackage{ctex} % 用于支持中文\n",
        "\\usepackage{geometry} % 用于页面布局设置\n",
        "\\geometry{left=2.5cm,right=2.5cm,top=2.5cm,bottom=2.5cm}\n",
        "\\usepackage{hyperref} % 用于创建超链接\n",
        "\\usepackage{listings}\n",
        "\"\"\"\n",
        "mdtxt=\"<em>我们有：<em>第一段1-2的斜体效果<strong>第二段2-3的粗体效果</em></strong>第三段3-2的正体效果<em>*第四段2-1的斜体效果</em>。效果并不稳定<strong></strong>\"\n",
        "\n",
        "test_sntnc=\"\"\"\n",
        "二<em>级<strong>标<em></em></strong>题</em>初始包\n",
        "\"\"\"\n",
        "\n",
        "markdown_text = \"\"\"\n",
        "有以下规则\n",
        "## 2. 字体样式\n",
        "\n",
        "markdown对于行内文本字符强调的语法，显得比较混乱，在复杂情况下难以预计其解析渲染效果。一般会倾向于将这些细节移除，再进行解析及LaTeX转换。\n",
        "如果一定要在Markdown文本上标注编辑文本，则有以下规则\n",
        "- **简单同等\\*数量对应配对规则**\n",
        "Markdown优先将\\*号解释成格式化标记。当需要在斜体或粗体文本中包含星号时，必须使用反斜杠 `\\` 进行转义，以避免Markdown解析器将其解释为格式化标记。\n",
        "对应不同的\\*号数量，有以下规则，四颗星以上，偶数星粗体，奇数星为粗斜体，三倍颗时为正常体。\n",
        "\n",
        "## 二级**标***题*\n",
        "\n",
        "# 标题1\n",
        "\n",
        "这是一个段落，包含**粗体**和*斜体*文本。\n",
        "\n",
        "## 二级**标***题*\n",
        "\n",
        "### 三级**标***题*\n",
        "\n",
        "#### 四级**标**题*\n",
        "\n",
        "##### 五级**标***题*\n",
        "\n",
        "###### 六级**标**题*\n",
        "\n",
        "## 标题2\n",
        "\n",
        "1. 第一项\n",
        "2. 第二项\n",
        "   - 子项1\n",
        "   - 子项2\n",
        "    1.回到有序列表\n",
        "    2.继续\n",
        "\n",
        "\n",
        "### 无序列表\n",
        "\n",
        "- 项目1\n",
        "- 项目2\n",
        "  - 项目2的子项目1\n",
        "  - 项目2的子项目2\n",
        "    - 项目2的子项目2的孙项目1\n",
        "- 项目3\n",
        "\n",
        "### 有序列表\n",
        "\n",
        "1. 第一项\n",
        "  - 第一项的子项目1\n",
        "    -第一项的子项目1的孙项目\n",
        "2. 第二项\n",
        "3. 第三项\n",
        "\n",
        "### 代码示例\n",
        "\"\"\"\n",
        "\n",
        "\"\"\"\n",
        "Markdown优先将\\*号解释成格式化标记。当需要在斜体或粗体文本中包含星号时，必须使用反斜杠 `\\` 进行转义，以避免Markdown解析器将其解释为格式化标记。\n",
        "对应不同的\\*号数量，有以下规则，四颗星以上，偶数星粗体，奇数星为粗斜体，三倍颗时为正常体。\n",
        "\"\"\"\n",
        "\n",
        "\"\"\"\n",
        "####目前对于<code>没有解释\n",
        "```python\n",
        "def hello_world():\n",
        "    print(\"Hello, World!\")\n",
        "```\n",
        "\"\"\""
      ],
      "metadata": {
        "colab": {
          "base_uri": "https://localhost:8080/",
          "height": 35
        },
        "id": "XW4NQcZMsfLF",
        "outputId": "1b374fb6-93f0-4e07-d32e-23b3b2e34eb2"
      },
      "execution_count": null,
      "outputs": [
        {
          "output_type": "execute_result",
          "data": {
            "text/plain": [
              "'\\n####目前对于<code>没有解释\\n```python\\ndef hello_world():\\n    print(\"Hello, World!\")\\n```\\n'"
            ],
            "application/vnd.google.colaboratory.intrinsic+json": {
              "type": "string"
            }
          },
          "metadata": {},
          "execution_count": 263
        }
      ]
    },
    {
      "cell_type": "markdown",
      "source": [
        "### 超全局函数：堆栈类及转置函数"
      ],
      "metadata": {
        "id": "Fn_CCw6jtvi2"
      }
    },
    {
      "cell_type": "code",
      "source": [
        "class Stack:\n",
        "    def __init__(self):\n",
        "        self.stack = []  # 初始化一个空列表作为堆栈\n",
        "\n",
        "    def push(self, item):\n",
        "        self.stack.append(item)  # 将元素添加到堆栈顶部\n",
        "\n",
        "    def pop(self):\n",
        "        if self.is_empty():\n",
        "            raise Exception(\"pop() called on empty stack.\")  # 检查堆栈是否为空\n",
        "        return self.stack.pop()  # 移除并返回堆栈顶部的元素\n",
        "\n",
        "    def peek(self):\n",
        "        if self.is_empty():\n",
        "            raise Exception(\"peek() called on empty stack.\")  # 检查堆栈是否为空\n",
        "        return self.stack[-1]  # 返回堆栈顶部的元素\n",
        "\n",
        "    def is_empty(self):\n",
        "        return len(self.stack) == 0  # 检查堆栈是否为空\n",
        "\n",
        "    def size(self):\n",
        "        return len(self.stack)  # 返回堆栈中元素的数量\n",
        "\n",
        "    def __str__(self):\n",
        "        return str(self.stack)  # 返回堆栈的字符串表示\n",
        "\n",
        "def transpose(matrix):  #转置函数：将形如[[1, 2, 3], [4, 5, 6], [7, 8, 9]]的列表转置成[[1, 4, 7], [2, 5, 8], [3, 6, 9]]\n",
        "    return list(map(list, zip(*matrix)))\n",
        "\n",
        "\n",
        "cs=Stack()                #定义一个格式命令的堆栈，前面有一个关于堆栈的类的定义Stack，要注意大小写\n",
        "cs.push(\"<p>\")\n",
        "cs.push(\"<p>\")"
      ],
      "metadata": {
        "id": "fNcgtWg8t2md"
      },
      "execution_count": null,
      "outputs": []
    },
    {
      "cell_type": "markdown",
      "source": [
        "可以超全局的配对消除函数"
      ],
      "metadata": {
        "id": "DBZWh9VQgf9e"
      }
    },
    {
      "cell_type": "code",
      "source": [
        "def matching_pair_elimination(ls1,ls2): #配对消除函数\n",
        "#我们有一批元素，各自对应不重复的序号。ls是关于[序号,元素]的列表，函数的目标是将分别来自ls1和ls2中相等的元素进行一一配对，配对过的元素不能重复配对。\n",
        "  pairs=[];paired_elmnts=[]\n",
        "  for pair in list(itertools.product(ls1, ls2)):\n",
        "    if pair[0][0] not in paired_elmnts and pair[1][0] not in paired_elmnts:\n",
        "      if pair[0][1]==pair[1][1]:\n",
        "        pairs.append([pair[0][0],pair[1][0]])\n",
        "        paired_elmnts=sum(pairs,[])\n",
        "  return transpose(pairs)\n",
        "\n",
        "def pure_indexes__elimination(indexes1,indexes2,pure_elment_list1,pure_elment_list2): #######注意这里的两个序号表对应不同的元素表#########pure_elmnt_list是指纯的元素集合成的列表，唯一结构性的线索就是这些元素在列表中的位置。\n",
        "#对于特定数量不重复的序号，这些序号在各自的纯元素表内对应不同的元素，这些元素有可能会重复出现分散在元素列表的多个位置。\n",
        "#这些序号分散着两个列表indexes1，indexes2中。函数的目标是从两个列表各自挑出一个序号组成配对，使得配对内的两个序号在元素内对应的元素全等。配对过的序号不能重复配对。\n",
        "  lt1=[[index,pure_elment_list1[index]] for index in indexes1]\n",
        "  lt2=[[index,pure_elment_list2[index]] for index in indexes2]\n",
        "\n",
        "  return matching_pair_elimination(lt1,lt2)"
      ],
      "metadata": {
        "id": "NI0PDgdX2CTE"
      },
      "execution_count": null,
      "outputs": []
    },
    {
      "cell_type": "markdown",
      "source": [
        "## 程序主要部分"
      ],
      "metadata": {
        "id": "P2Ozg9IDvfp_"
      }
    },
    {
      "cell_type": "markdown",
      "source": [
        "### 语句外编译逻辑子函数"
      ],
      "metadata": {
        "id": "_LzVfn7LuQuW"
      }
    },
    {
      "cell_type": "code",
      "source": [
        "def html_lines(mD_text):\n",
        "   analyzed_html=markdown2.markdown(mD_text, extras=[\"strike\"])         #使用markdonw2库解析为html，只有markdown2库才能有效解析嵌套列表，启动extras=[\"strike\"]确保支持删除线功能\n",
        "   return analyzed_html.split('\\n')                                     #将按照回车符将文本分解为行\n",
        "\n",
        "def line_split(line):   #（这个行解释逻辑只适合markdown，不适合markdown2，已经放弃。我们有新的行解释函数segmentation）查找文本前后>和<两个分割点，在分割点顺位时输出三元素数组，不顺位时输出单元素数组，前提是<和>成对顺序出现，且必在文本首尾\n",
        "   text_break = [line.find('>')+1,line.rfind('<')]\n",
        "   if text_break[0]<text_break[1]:\n",
        "      return [line[:text_break[0]]] + [line[text_break[0]:text_break[1]]] + [line[text_break[1]:]]\n",
        "   else:\n",
        "      return [line]\n",
        "\n",
        "def head_tag(line):  #剥离行的首尾标签\n",
        "   Len=len(line)     #文本长度测量\n",
        "\n",
        "   def text_cut(txt,pstn):    #文本切割函数，输出无空字符串的字符串数组\n",
        "      if pstn!=0 and pstn!=len(txt) and pstn!=-len(txt):\n",
        "         return [txt[:pstn],txt[pstn:]]\n",
        "      else:\n",
        "         return [txt]\n",
        "\n",
        "   if Len==0:        #空行处理\n",
        "      line_parts=[]\n",
        "   else:\n",
        "      tag_cut=[line.find('<'),line.find('>')+1,line.rfind('<'),line.rfind('>')+1]   #标签索引制作\n",
        "      line_parts=[line]\n",
        "\n",
        "      if tag_cut[0]==0 and tag_cut[1]!=0:    #字符串加工成为字符串数组：首位标签剥离处理\n",
        "         line_parts=text_cut(line,tag_cut[1])\n",
        "      if Len==tag_cut[3] and tag_cut[2]!=-1:    #行尾标签剥离处理\n",
        "         new_part=line_parts[-1]                #选中待加工字符串数组元素\n",
        "         del line_parts[-1]                     #从字符串数组中移除待加工元素\n",
        "         line_parts=line_parts+text_cut(new_part,tag_cut[2]-Len)    #字符串数组加上加工后数组（使用反向索引加工：剥离字符串行尾标签）\n",
        "   return line_parts\n",
        "\n",
        "def segmentation(lines):   #将字符串数组整理组装为元素流\n",
        "   segments=[]\n",
        "   for line in lines:\n",
        "      segments=segments+head_tag(line)\n",
        "   return segments\n",
        "\n",
        "\n",
        "def latex_director(elmnt):      #接受新的元素，命令元素则改变全局的txt_lvl和cmd，其中cmd作为堆栈的顶端状态，文本元素直接输出LaTEX字符串\n",
        "   sgmnt=\"\"\n",
        "   if elmnt[0]==\"<\" and elmnt[-1]==\">\" and elmnt.count(\"<\")==1:\n",
        "      if elmnt[1]!=\"/\":                  #加配对处理\n",
        "         cs.push(elmnt)                   #配对命令压栈，前提是命令严格成对出现\n",
        "         if elmnt==\"<ul>\":                #进入无序列表处理\n",
        "            sgmnt= \"\\\\begin{itemize}\\n\"      #无序列表头输出\n",
        "         elif elmnt==\"<ol>\":              #进入有序列表处理\n",
        "            sgmnt= \"\\\\begin{enumerate}\\n\"    #有序列表头输出\n",
        "      else:                               #去配对处理\n",
        "         cs.pop()                         #配对命令退栈\n",
        "         if elmnt==\"</ul>\":               #退出无序列表处理\n",
        "            sgmnt= \"\\\\end{itemize}\\n\"        #无序列表尾输出\n",
        "         elif elmnt==\"</ol>\":             #退出有序列表处理\n",
        "            sgmnt= \"\\\\end{enumerate}\\n\"      #有序列表尾输出\n",
        "   else:\n",
        "      sgmnt= latex_maker(cs.peek(),elmnt) #文本处理调用####################################\n",
        "   return sgmnt\n",
        "\n",
        "def phrase(sntnc):\n",
        "   return sntnc\n",
        "\n",
        "def latex_maker(cMd,rAw_str):\n",
        "   sTr=phrase_covert(rAw_str)          #此处调用语句处理\n",
        "   #sTr=phrase(rAw_str)\n",
        "   if cMd==\"<h1>\":\n",
        "      return \"\\section{\"+sTr+\"}\\n\"\n",
        "   if cMd==\"<p>\":\n",
        "      return sTr +\"\\n\"\n",
        "   elif cMd==\"<h2>\":\n",
        "      return \"\\subsection{\"+sTr+\"}\\n\"\n",
        "   elif cMd==\"<h3>\":\n",
        "      return \"\\subsubsection{\"+sTr+\"}\\n\"\n",
        "   elif cMd==\"<h4>\":\n",
        "      return \"\\paragraph{\"+sTr+\"}\\n\"\n",
        "   elif cMd==\"<h5>\":\n",
        "      return \"\\subparagraph{\"+sTr+\"}\\n\"\n",
        "   elif cMd==\"<h6>\":\n",
        "      return \"\\subparagraph{\"+sTr+\"}\\n\"\n",
        "   elif cMd==\"<li>\":                      #本质上<li>之后会紧跟一段字符串，或者是<ul>以及<ol>格式命令\n",
        "      return \"\\item{\"+sTr+\"}\\n\"\n",
        "\n",
        "def latex_assembler(segments):\n",
        "   latex_doc=\"\"\n",
        "   for sgmnt in segments:\n",
        "      latex_doc=latex_doc+latex_director(sgmnt)\n",
        "   return latex_doc"
      ],
      "metadata": {
        "id": "pTB83_mFuPSz"
      },
      "execution_count": null,
      "outputs": []
    },
    {
      "cell_type": "markdown",
      "source": [
        "### 语句内文本编译逻辑子函数"
      ],
      "metadata": {
        "id": "vHinXoXi8PVq"
      }
    },
    {
      "cell_type": "markdown",
      "source": [
        "基于这项语句分解函数的分解成果，可以考虑一个更加简洁的思路，就是语句内的标签种类有限，根据每一种标签设置标签状态器。然后就是对分解成果进行逐个元素的遍历。\n",
        "当遇到开放标签时，对应状态器为1时为无效标签，直接丢弃；对应状态器为0时置1，标签压入堆栈，并生成相应的格式符号及{。\n",
        "当遇到封闭标签时，对应状态器为0时为无效标签，直接丢弃；对应状态器为1时置0，从堆栈中弹出标签，生成}直到弹出标签对应当前封闭标签，将弹出的不匹配的标签重新依序压入堆栈并生成新的格式符号及{。\n",
        "当遇到文本时，不做动作。在语句结束时，按堆栈深度补齐所有的}"
      ],
      "metadata": {
        "id": "ibJrTud2-UJ5"
      }
    },
    {
      "cell_type": "code",
      "source": [
        "def sentence_analyze(sntnc):     #语句分解函数,此处sntnc为字符串\n",
        "\n",
        "    sntnc_sectors=[[],[]];sntnc_index=[]        #sntnc_sectors的每个条目里：第一个是队列号：0为body，1为tag；第二个是各自队列里的序号，方便重新组装\n",
        "    rhythm_order=-1;tag_rhythums=[]#;sector_order=0   #end=0\n",
        "    bgn=sntnc.find('<')\n",
        "\n",
        "    while bgn!=-1:\n",
        "        if bgn!=0:\n",
        "            sntnc_index.append([0,len(sntnc_sectors[0])])\n",
        "            sntnc_sectors[0].append(sntnc[:bgn])\n",
        "            rhythm_order=rhythm_order+1\n",
        "        end=sntnc.find('>')+1       #前提是语句里<>完美配对，即标签完备性\n",
        "        sntnc_index.append([1,len(sntnc_sectors[1])])\n",
        "        sntnc_sectors[1].append(sntnc[bgn:end])\n",
        "        if rhythm_order==-1:      #避免记录rhythm_order=-1\n",
        "          rhythm_order=0\n",
        "        tag_rhythums.append(rhythm_order)\n",
        "        sntnc=sntnc[end:]           #语句消耗\n",
        "        bgn=sntnc.find('<')\n",
        "\n",
        "    if sntnc!=\"\":               #语句耗尽\n",
        "        sntnc_index.append([0,len(sntnc_sectors[0])])\n",
        "        sntnc_sectors[0].append(sntnc)\n",
        "\n",
        "    return sntnc_sectors,sntnc_index,tag_rhythums\n",
        "\n",
        "def re_analyze(sntnc):  #语句再分解函数,此处sntnc为标签元素及字符串元素的列表\n",
        "    sectors=[[],[]];index=[];rhythms=[];rhythm_order=-1;fresh_body=True\n",
        "    for element in sntnc:\n",
        "        if element[0]==\"<\":     #标签分支\n",
        "            index.append([1,len(sectors[1])])\n",
        "            sectors[1].append(element)\n",
        "            rhythms.append(rhythm_order)\n",
        "            fresh_body=True\n",
        "        else:                   #文本分支\n",
        "            index.append([0,len(sectors[0])])\n",
        "            sectors[0].append(element)\n",
        "            if fresh_body:\n",
        "                rhythm_order=rhythm_order+1\n",
        "                fresh_body=False\n",
        "    return sectors,index,rhythms\n",
        "\n",
        "def sentence_assemble(sectors,index,rhythms):   #语句组装函数\n",
        "    sntnc=[]\n",
        "    for pointer in index:\n",
        "        sntnc.append(sectors[pointer[0]][pointer[1]])\n",
        "    return sntnc\n",
        "\n",
        "def substr_seek(pure_list,str):     #在由首位为索引，次位为字符串的子列表组成的父列表中，查询次位元素包含str的的子列表的首位索引\n",
        "    return [index for index, item in pure_list if str in item]\n"
      ],
      "metadata": {
        "id": "c_87P4rf8OiS"
      },
      "execution_count": null,
      "outputs": []
    },
    {
      "cell_type": "code",
      "source": [
        "def phrase_covert(sentence):\n",
        "  pack=sentence_analyze(sentence) #初始包\n",
        "  close_index=substr_seek(enumerate(pack[0][1]),\"/\")  #pack[0][1]即sntnc_sectors，检出包内所有封闭标签\n",
        "\n",
        "  while close_index!=[]:                #根据标签配对完备性，所有的结束标签一定对应一个开放标签（反之不成立？）。在存在结束标签的条件下循环。\n",
        "      pack=tag_pair(*pack,close_index)\n",
        "      close_index=substr_seek(enumerate(pack[0][1]),\"/\")      #pack[0][1]即sntnc_sectors，检出包内所有封闭标签\n",
        "\n",
        "  final_phrase=\"\".join(sentence_assemble(*pack))\n",
        "\n",
        "  return final_phrase#pack,close_index,final_phrase\n",
        "\n",
        "def tag_pair(sectors,index,rhythms,close_index):  #rhythms为总标签的标签节号表，即对于全体标签依序对应的纯标签节号表\n",
        "\n",
        "  tag_list=sectors[1]             #即总标签的标签表（对于全体标签依序对应的纯标签本体表）\n",
        "  tag_list_fake=[re.sub(r\"/\",\"\",tag) for tag in tag_list]\n",
        "  #close_seek=min(close_index)         #检出最小关闭标签的总标签号，确定为在手关闭标签的标签的总标签号\n",
        "  close_rhythm=rhythms[min(close_index)]   #通过最小关闭标签的总标签号，在标签节号表检出在手标签节号\n",
        "  rhythm_tags=[[index,tag_list[index]] for index, item in enumerate(rhythms) if item==close_rhythm]   #检出在手标签节中所有总标签号及对应标签（即节内标签总检索表）\n",
        "\n",
        "  rhythm_close_index=substr_seek(rhythm_tags,\"/\")                                    #检出在手标签节中所有关闭标签的总标签号\n",
        "  rhythm_open_index=[index for index in transpose(rhythm_tags)[0] if index not in rhythm_close_index]      #检出首个关闭标签节中所有开放标签索引(检出补集方式)\n",
        "\n",
        "  inside_matched_tags=pure_indexes__elimination(rhythm_close_index,rhythm_open_index,tag_list_fake,tag_list)      #检出匹配的总标签号列表\n",
        "\n",
        "  if inside_matched_tags==[]:\n",
        "    pre_rhythm_tags=[[index,tag_list[index]] for index, item in enumerate(rhythms) if item==close_rhythm-1]    #检出首个关闭标签节的前一节中所有[标签索引,标签]\n",
        "    pre_rhythm_open_index=transpose(pre_rhythm_tags)[0]\n",
        "    matched_info=pure_indexes__elimination(rhythm_close_index,pre_rhythm_open_index,tag_list_fake,tag_list)       #开始跨节配对\n",
        "\n",
        "    for i in matched_info[0]:\n",
        "      sectors[1][i]=\"}\"\n",
        "    for i in matched_info[1]:           ###这里就是对标签的解释部分（节内配对不解释标签）\n",
        "        if tag_list[i]==\"<em>\":\n",
        "            cmd=\"\\\\textit{\"\n",
        "        elif tag_list[i]==\"<strong>\":\n",
        "            cmd=\"\\\\textbf{\"\n",
        "        elif tag_list[i]==\"<s>\":\n",
        "            cmd=\"\\\\st{\"\n",
        "        elif tag_list[i]==\"<code>\":\n",
        "            cmd=\"\\\\lstinline{\"\n",
        "        elif tag_list[i]==\"<del>\":\n",
        "            cmd=\"\\\\sout{\"\n",
        "        else:\n",
        "          cmd=\"\\\\\\paragraph{\"\n",
        "\n",
        "        sectors[1][i]=cmd#matched_info[2][i]  #根据装配表，使用标签命令解释替代原标签\n",
        "  else:\n",
        "    #matched_info=pure_indexes__elimination(rhythm_close_index,rhythm_open_index,tag_list_fake,tag_list)       #开始节内配对\n",
        "    for i in sum(inside_matched_tags,[]):\n",
        "      index.remove([1,i])\n",
        "\n",
        "  new_sntnc=sentence_assemble(sectors,index,rhythms)\n",
        "  pack=re_analyze(new_sntnc)\n",
        "\n",
        "  return pack#,matched_info#sectors,inside_matched_tags,index#rhythm_close_index,pre_rhythm_open_index,tag_list_fake,pure_indexes__elimination(rhythm_close_index,pre_rhythm_open_index,tag_list_fake,tag_list),sectors\n"
      ],
      "metadata": {
        "id": "20H_NGZzjyGC"
      },
      "execution_count": null,
      "outputs": []
    },
    {
      "cell_type": "markdown",
      "source": [
        "## 测试与执行"
      ],
      "metadata": {
        "id": "gCy7oDceuzPU"
      }
    },
    {
      "cell_type": "markdown",
      "source": [
        "### 验证测试"
      ],
      "metadata": {
        "id": "yiymwpgAddOk"
      }
    },
    {
      "cell_type": "markdown",
      "source": [
        "语句内逻辑验证"
      ],
      "metadata": {
        "id": "kNOROZxPd4xH"
      }
    },
    {
      "cell_type": "code",
      "source": [
        "test_sntnc='<p><em>Markdown优</em>先将*号解释成格式化标记。当需要在斜<code>体或粗体文本</code>中包含星号时，必须使用反斜杠本中包含星进行转义，以避免Markdown解析器将其解释为格式化标记。</p>'\n",
        "\n",
        "pack=sentence_analyze(test_sntnc) #初始包\n",
        "close_index=substr_seek(enumerate(pack[0][1]),\"/\")  #pack[0][1]即sntnc_sectors，检出包内所有封闭标签\n",
        "print(pack,close_index)\n",
        "while close_index!=[]:                #根据标签配对完备性，所有的结束标签一定对应一个开放标签（反之不成立？）。在存在结束标签的条件下循环。\n",
        "  pack,close_index;pack=tag_pair(*pack,close_index);close_index=substr_seek(enumerate(pack[0][1]),\"/\")#;print(pack,close_index)      #pack[0][1]即sntnc_sectors，检出包内所有封闭标签\n",
        "\n",
        "pack,close_index"
      ],
      "metadata": {
        "colab": {
          "base_uri": "https://localhost:8080/"
        },
        "id": "M1fiVErsPKEn",
        "outputId": "6415b03c-21a1-4f4d-93e5-bc5d5102741d"
      },
      "execution_count": null,
      "outputs": [
        {
          "output_type": "stream",
          "name": "stdout",
          "text": [
            "([['Markdown优', '先将*号解释成格式化标记。当需要在斜', '体或粗体文本', '中包含星号时，必须使用反斜杠本中包含星进行转义，以避免Markdown解析器将其解释为格式化标记。'], ['<p>', '<em>', '</em>', '<code>', '</code>', '</p>']], [[1, 0], [1, 1], [0, 0], [1, 2], [0, 1], [1, 3], [0, 2], [1, 4], [0, 3], [1, 5]], [0, 0, 1, 2, 3, 4]) [2, 4, 5]\n"
          ]
        },
        {
          "output_type": "execute_result",
          "data": {
            "text/plain": [
              "(([['\\\\\\\\paragraph{',\n",
              "    '\\\\textit{',\n",
              "    'Markdown优',\n",
              "    '}',\n",
              "    '先将*号解释成格式化标记。当需要在斜',\n",
              "    '\\\\lstinline{',\n",
              "    '体或粗体文本',\n",
              "    '}',\n",
              "    '中包含星号时，必须使用反斜杠本中包含星进行转义，以避免Markdown解析器将其解释为格式化标记。',\n",
              "    '}'],\n",
              "   []],\n",
              "  [[0, 0],\n",
              "   [0, 1],\n",
              "   [0, 2],\n",
              "   [0, 3],\n",
              "   [0, 4],\n",
              "   [0, 5],\n",
              "   [0, 6],\n",
              "   [0, 7],\n",
              "   [0, 8],\n",
              "   [0, 9]],\n",
              "  []),\n",
              " [])"
            ]
          },
          "metadata": {},
          "execution_count": 261
        }
      ]
    },
    {
      "cell_type": "code",
      "source": [
        "phrase_covert('<p>Markdown优先将*号解释成格式化标记。当需要在斜体或粗体文本中包含星号时，必须使用反斜杠 本中包含星进行转义，以避免Markdown解析器将其解释为格式化标记。</p>')"
      ],
      "metadata": {
        "colab": {
          "base_uri": "https://localhost:8080/",
          "height": 295
        },
        "id": "_BVTUAc6dzO5",
        "outputId": "56d59a9f-5fac-4de7-9ad3-4337e5168b95"
      },
      "execution_count": null,
      "outputs": [
        {
          "output_type": "error",
          "ename": "UnboundLocalError",
          "evalue": "local variable 'cmd' referenced before assignment",
          "traceback": [
            "\u001b[0;31m---------------------------------------------------------------------------\u001b[0m",
            "\u001b[0;31mUnboundLocalError\u001b[0m                         Traceback (most recent call last)",
            "\u001b[0;32m<ipython-input-254-0ceb03bf2349>\u001b[0m in \u001b[0;36m<cell line: 1>\u001b[0;34m()\u001b[0m\n\u001b[0;32m----> 1\u001b[0;31m \u001b[0mphrase_covert\u001b[0m\u001b[0;34m(\u001b[0m\u001b[0;34m'<p>Markdown优先将*号解释成格式化标记。当需要在斜体或粗体文本中包含星号时，必须使用反斜杠 本中包含星进行转义，以避免Markdown解析器将其解释为格式化标记。</p>'\u001b[0m\u001b[0;34m)\u001b[0m\u001b[0;34m\u001b[0m\u001b[0;34m\u001b[0m\u001b[0m\n\u001b[0m",
            "\u001b[0;32m<ipython-input-245-9d9baddba97a>\u001b[0m in \u001b[0;36mphrase_covert\u001b[0;34m(sentence)\u001b[0m\n\u001b[1;32m      4\u001b[0m \u001b[0;34m\u001b[0m\u001b[0m\n\u001b[1;32m      5\u001b[0m   \u001b[0;32mwhile\u001b[0m \u001b[0mclose_index\u001b[0m\u001b[0;34m!=\u001b[0m\u001b[0;34m[\u001b[0m\u001b[0;34m]\u001b[0m\u001b[0;34m:\u001b[0m                \u001b[0;31m#根据标签配对完备性，所有的结束标签一定对应一个开放标签（反之不成立？）。在存在结束标签的条件下循环。\u001b[0m\u001b[0;34m\u001b[0m\u001b[0;34m\u001b[0m\u001b[0m\n\u001b[0;32m----> 6\u001b[0;31m       \u001b[0mpack\u001b[0m\u001b[0;34m=\u001b[0m\u001b[0mtag_pair\u001b[0m\u001b[0;34m(\u001b[0m\u001b[0;34m*\u001b[0m\u001b[0mpack\u001b[0m\u001b[0;34m,\u001b[0m\u001b[0mclose_index\u001b[0m\u001b[0;34m)\u001b[0m\u001b[0;34m\u001b[0m\u001b[0;34m\u001b[0m\u001b[0m\n\u001b[0m\u001b[1;32m      7\u001b[0m       \u001b[0mclose_index\u001b[0m\u001b[0;34m=\u001b[0m\u001b[0msubstr_seek\u001b[0m\u001b[0;34m(\u001b[0m\u001b[0menumerate\u001b[0m\u001b[0;34m(\u001b[0m\u001b[0mpack\u001b[0m\u001b[0;34m[\u001b[0m\u001b[0;36m0\u001b[0m\u001b[0;34m]\u001b[0m\u001b[0;34m[\u001b[0m\u001b[0;36m1\u001b[0m\u001b[0;34m]\u001b[0m\u001b[0;34m)\u001b[0m\u001b[0;34m,\u001b[0m\u001b[0;34m\"/\"\u001b[0m\u001b[0;34m)\u001b[0m      \u001b[0;31m#pack[0][1]即sntnc_sectors，检出包内所有封闭标签\u001b[0m\u001b[0;34m\u001b[0m\u001b[0;34m\u001b[0m\u001b[0m\n\u001b[1;32m      8\u001b[0m \u001b[0;34m\u001b[0m\u001b[0m\n",
            "\u001b[0;32m<ipython-input-245-9d9baddba97a>\u001b[0m in \u001b[0;36mtag_pair\u001b[0;34m(sectors, index, rhythms, close_index)\u001b[0m\n\u001b[1;32m     43\u001b[0m             \u001b[0mcmd\u001b[0m\u001b[0;34m=\u001b[0m\u001b[0;34m\"\\\\sout{\"\u001b[0m\u001b[0;34m\u001b[0m\u001b[0;34m\u001b[0m\u001b[0m\n\u001b[1;32m     44\u001b[0m \u001b[0;34m\u001b[0m\u001b[0m\n\u001b[0;32m---> 45\u001b[0;31m         \u001b[0msectors\u001b[0m\u001b[0;34m[\u001b[0m\u001b[0;36m1\u001b[0m\u001b[0;34m]\u001b[0m\u001b[0;34m[\u001b[0m\u001b[0mi\u001b[0m\u001b[0;34m]\u001b[0m\u001b[0;34m=\u001b[0m\u001b[0mcmd\u001b[0m\u001b[0;31m#matched_info[2][i]  #根据装配表，标签命令解释替代\u001b[0m\u001b[0;34m\u001b[0m\u001b[0;34m\u001b[0m\u001b[0m\n\u001b[0m\u001b[1;32m     46\u001b[0m   \u001b[0;32melse\u001b[0m\u001b[0;34m:\u001b[0m\u001b[0;34m\u001b[0m\u001b[0;34m\u001b[0m\u001b[0m\n\u001b[1;32m     47\u001b[0m     \u001b[0;31m#matched_info=pure_indexes__elimination(rhythm_close_index,rhythm_open_index,tag_list_fake,tag_list)       #开始节内配对\u001b[0m\u001b[0;34m\u001b[0m\u001b[0;34m\u001b[0m\u001b[0m\n",
            "\u001b[0;31mUnboundLocalError\u001b[0m: local variable 'cmd' referenced before assignment"
          ]
        }
      ]
    },
    {
      "cell_type": "markdown",
      "source": [
        "整体文本验证"
      ],
      "metadata": {
        "id": "PggBgY7Pidhs"
      }
    },
    {
      "cell_type": "code",
      "source": [
        "html_lines(markdown_text)"
      ],
      "metadata": {
        "colab": {
          "base_uri": "https://localhost:8080/"
        },
        "id": "mnmVMA8a4vxF",
        "outputId": "f60b5028-148a-4699-9f12-b3697db0ceae"
      },
      "execution_count": null,
      "outputs": [
        {
          "output_type": "execute_result",
          "data": {
            "text/plain": [
              "['<p>有以下规则 </p>',\n",
              " '',\n",
              " '<p>Markdown优先将*号解释成格式化标记。当需要在斜体或粗体文本中包含星号时，必须使用反斜杠 <code>\\\\</code> 进行转义，以避免Markdown解析器将其解释为格式化标记。',\n",
              " '对应不同的*号数量，有以下规则，四颗星以上，偶数星粗体，奇数星为粗斜体，三倍颗时为正常体。</p>',\n",
              " '']"
            ]
          },
          "metadata": {},
          "execution_count": 188
        }
      ]
    },
    {
      "cell_type": "code",
      "source": [
        "lines=html_lines(markdown_text)     #将输入整理成超文本行数组,注意输入参数要改为mD_text\n",
        "sgmnts=segmentation(lines)        #整理成元素数组\n",
        "\n",
        "print(sgmnts)\n",
        "doc_title=r\"\"\"\n",
        "\\title{真的可以吗？}\n",
        "\"\"\"\n",
        "tex=document_head+doc_title+body_head+latex_assembler(sgmnts)+\"\\end{document}\"\n",
        "print(tex)"
      ],
      "metadata": {
        "colab": {
          "base_uri": "https://localhost:8080/"
        },
        "id": "RyZY3rJvu3en",
        "outputId": "fd53f1dc-093d-44b9-b1e9-9a50371f8518",
        "collapsed": true
      },
      "execution_count": null,
      "outputs": [
        {
          "output_type": "stream",
          "name": "stdout",
          "text": [
            "['<h2>', '二级<strong>标<em></strong>题</em>', '</h2>', '<h1>', '标题1', '</h1>', '<p>', '这是一个段落，包含<strong>粗体</strong>和<em>斜体</em>文本。', '</p>', '<h2>', '二级<strong>标<em></strong>题</em>', '</h2>', '<h3>', '三级<strong>标<em></strong>题</em>', '</h3>', '<h4>', '四级<strong>标</strong>题*', '</h4>', '<h5>', '五级<strong>标<em></strong>题</em>', '</h5>', '<h6>', '六级<strong>标</strong>题*', '</h6>', '<h2>', '标题2', '</h2>', '<ol>', '<li>', '第一项', '</li>', '<li>', '第二项', '<ul>', '<li>', '子项1', '</li>', '<li>', '子项2', '1.回到有序列表', '2.继续', '</li>', '</ul>', '</li>', '</ol>', '<h3>', '无序列表', '</h3>', '<ul>', '<li>', '项目1', '</li>', '<li>', '项目2', '<ul>', '<li>', '项目2的子项目1', '</li>', '<li>', '项目2的子项目2', '<ul>', '<li>', '项目2的子项目2的孙项目1', '</li>', '</ul>', '</li>', '</ul>', '</li>', '<li>', '项目3', '</li>', '</ul>', '<h3>', '有序列表', '</h3>', '<ol>', '<li>', '第一项', '<ul>', '<li>', '第一项的子项目1', '-第一项的子项目1的孙项目', '</li>', '</ul>', '</li>', '<li>', '第二项', '</li>', '<li>', '第三项', '</li>', '</ol>', '<h3>', '代码示例', '</h3>']\n",
            "\n",
            "\\documentclass[12pt,a4paper]{article}\n",
            "\\usepackage{ctex} % 用于支持中文\n",
            "\\usepackage{geometry} % 用于页面布局设置\n",
            "\\geometry{left=2.5cm,right=2.5cm,top=2.5cm,bottom=2.5cm}\n",
            "\\usepackage{hyperref} % 用于创建超链接\n",
            "\n",
            "\\title{真的可以吗？}\n",
            "\n",
            "\\begin{document}\n",
            "\\maketitle\n",
            "\\subsection{二级\\textbf{标\\textit{}题}}\n",
            "\\section{标题1}\n",
            "这是一个段落，包含\\textbf{粗体}和\\textit{斜体}文本。\n",
            "\\subsection{二级\\textbf{标\\textit{}题}}\n",
            "\\subsubsection{三级\\textbf{标\\textit{}题}}\n",
            "\\paragraph{四级\\textbf{标}题*}\n",
            "\\subparagraph{五级\\textbf{标\\textit{}题}}\n",
            "\\subparagraph{六级\\textbf{标}题*}\n",
            "\\subsection{标题2}\n",
            "\\begin{enumerate}\n",
            "\\item{第一项}\n",
            "\\item{第二项}\n",
            "\\begin{itemize}\n",
            "\\item{子项1}\n",
            "\\item{子项2}\n",
            "\\item{1.回到有序列表}\n",
            "\\item{2.继续}\n",
            "\\end{itemize}\n",
            "\\end{enumerate}\n",
            "\\subsubsection{无序列表}\n",
            "\\begin{itemize}\n",
            "\\item{项目1}\n",
            "\\item{项目2}\n",
            "\\begin{itemize}\n",
            "\\item{项目2的子项目1}\n",
            "\\item{项目2的子项目2}\n",
            "\\begin{itemize}\n",
            "\\item{项目2的子项目2的孙项目1}\n",
            "\\end{itemize}\n",
            "\\end{itemize}\n",
            "\\item{项目3}\n",
            "\\end{itemize}\n",
            "\\subsubsection{有序列表}\n",
            "\\begin{enumerate}\n",
            "\\item{第一项}\n",
            "\\begin{itemize}\n",
            "\\item{第一项的子项目1}\n",
            "\\item{-第一项的子项目1的孙项目}\n",
            "\\end{itemize}\n",
            "\\item{第二项}\n",
            "\\item{第三项}\n",
            "\\end{enumerate}\n",
            "\\subsubsection{代码示例}\n",
            "\\end{document}\n"
          ]
        }
      ]
    },
    {
      "cell_type": "markdown",
      "source": [
        "整体文本编译"
      ],
      "metadata": {
        "id": "8N8qB1lKmMhR"
      }
    },
    {
      "cell_type": "code",
      "source": [
        "lines=html_lines(test_sntnc)     #将输入整理成超文本行数组,注意输入参数要改为mD_text\n",
        "sgmnts=segmentation(lines)        #整理成元素数组\n",
        "\n",
        "print(sgmnts)\n",
        "doc_title=r\"\"\"\n",
        "\\title{真的不可以吗可以吗？}\n",
        "\"\"\"\n",
        "tex=document_head+doc_title+body_head+latex_assembler(sgmnts)+\"\\end{document}\"\n",
        "\n",
        "with open('examplenew1.tex', 'w') as f:\n",
        "    f.write(tex)\n",
        "result = subprocess.run(['xelatex', 'examplenew1.tex'], capture_output=True, text=True)\n",
        "\n",
        "# 输出编译结果\n",
        "print(result.stdout)\n",
        "print(result.stderr)"
      ],
      "metadata": {
        "colab": {
          "base_uri": "https://localhost:8080/"
        },
        "collapsed": true,
        "id": "zKxPJ-PxkA6n",
        "outputId": "ed7281f7-ebbd-4eb4-9d52-e725615a4ee6"
      },
      "execution_count": null,
      "outputs": [
        {
          "output_type": "stream",
          "name": "stdout",
          "text": [
            "['<p>', '<em>Markdown优</em>先将*号解释成格式化标记。当需要在斜<code>体或粗体文本</code>中包含星号时，必须使用反斜杠本中包含星进行转义，以避免Markdown解析器将其解释为格式化标记。', '</p>']\n",
            "This is XeTeX, Version 3.141592653-2.6-0.999993 (TeX Live 2022/dev/Debian) (preloaded format=xelatex)\n",
            " restricted \\write18 enabled.\n",
            "entering extended mode\n",
            "(./examplenew1.tex\n",
            "LaTeX2e <2021-11-15> patch level 1\n",
            "L3 programming layer <2022-01-21>\n",
            "(/usr/share/texlive/texmf-dist/tex/latex/base/article.cls\n",
            "Document Class: article 2021/10/04 v1.4n Standard LaTeX document class\n",
            "(/usr/share/texlive/texmf-dist/tex/latex/base/size12.clo))\n",
            "(/usr/share/texlive/texmf-dist/tex/latex/ctex/ctex.sty\n",
            "(/usr/share/texlive/texmf-dist/tex/latex/l3kernel/expl3.sty\n",
            "(/usr/share/texlive/texmf-dist/tex/latex/l3backend/l3backend-xetex.def\n",
            "(|extractbb --version)))\n",
            "(/usr/share/texlive/texmf-dist/tex/latex/l3packages/xparse/xparse.sty)\n",
            "(/usr/share/texlive/texmf-dist/tex/latex/l3packages/l3keys2e/l3keys2e.sty)\n",
            "(/usr/share/texlive/texmf-dist/tex/latex/ctex/ctexhook.sty)\n",
            "(/usr/share/texlive/texmf-dist/tex/latex/ctex/ctexpatch.sty)\n",
            "(/usr/share/texlive/texmf-dist/tex/latex/base/fix-cm.sty\n",
            "(/usr/share/texlive/texmf-dist/tex/latex/base/ts1enc.def))\n",
            "(/usr/share/texlive/texmf-dist/tex/latex/ctex/config/ctexopts.cfg)\n",
            "(/usr/share/texlive/texmf-dist/tex/latex/ctex/engine/ctex-engine-xetex.def\n",
            "(/usr/share/texlive/texmf-dist/tex/xelatex/xecjk/xeCJK.sty\n",
            "(/usr/share/texlive/texmf-dist/tex/latex/l3packages/xtemplate/xtemplate.sty)\n",
            "(/usr/share/texlive/texmf-dist/tex/latex/fontspec/fontspec.sty\n",
            "(/usr/share/texlive/texmf-dist/tex/latex/fontspec/fontspec-xetex.sty\n",
            "(/usr/share/texlive/texmf-dist/tex/latex/base/fontenc.sty)\n",
            "(/usr/share/texlive/texmf-dist/tex/latex/fontspec/fontspec.cfg)))\n",
            "(/usr/share/texlive/texmf-dist/tex/xelatex/xecjk/xeCJK.cfg)))\n",
            "(/usr/share/texlive/texmf-dist/tex/latex/zhnumber/zhnumber.sty\n",
            "(/usr/share/texlive/texmf-dist/tex/latex/zhnumber/zhnumber-utf8.cfg))\n",
            "(/usr/share/texlive/texmf-dist/tex/latex/ctex/scheme/ctex-scheme-chinese.def\n",
            "(/usr/share/texlive/texmf-dist/tex/latex/ctex/config/ctex-name-utf8.cfg))\n",
            "(/usr/share/texlive/texmf-dist/tex/latex/tools/indentfirst.sty)\n",
            "(/usr/share/texlive/texmf-dist/tex/latex/ctex/fontset/ctex-fontset-fandol.def\n",
            "\n",
            "Package fontspec Warning: Font \"FandolSong-Regular\" does not contain requested\n",
            "(fontspec)                Script \"CJK\".\n",
            "\n",
            ")) (/usr/share/texlive/texmf-dist/tex/latex/ctex/config/ctex.cfg)\n",
            "(/usr/share/texlive/texmf-dist/tex/latex/geometry/geometry.sty\n",
            "(/usr/share/texlive/texmf-dist/tex/latex/graphics/keyval.sty)\n",
            "(/usr/share/texlive/texmf-dist/tex/generic/iftex/ifvtex.sty\n",
            "(/usr/share/texlive/texmf-dist/tex/generic/iftex/iftex.sty)))\n",
            "(/usr/share/texlive/texmf-dist/tex/latex/hyperref/hyperref.sty\n",
            "(/usr/share/texlive/texmf-dist/tex/generic/ltxcmds/ltxcmds.sty)\n",
            "(/usr/share/texlive/texmf-dist/tex/generic/pdftexcmds/pdftexcmds.sty\n",
            "(/usr/share/texlive/texmf-dist/tex/generic/infwarerr/infwarerr.sty))\n",
            "(/usr/share/texlive/texmf-dist/tex/generic/kvsetkeys/kvsetkeys.sty)\n",
            "(/usr/share/texlive/texmf-dist/tex/generic/kvdefinekeys/kvdefinekeys.sty)\n",
            "(/usr/share/texlive/texmf-dist/tex/generic/pdfescape/pdfescape.sty)\n",
            "(/usr/share/texlive/texmf-dist/tex/latex/hycolor/hycolor.sty)\n",
            "(/usr/share/texlive/texmf-dist/tex/latex/letltxmacro/letltxmacro.sty)\n",
            "(/usr/share/texlive/texmf-dist/tex/latex/auxhook/auxhook.sty)\n",
            "(/usr/share/texlive/texmf-dist/tex/latex/kvoptions/kvoptions.sty)\n",
            "(/usr/share/texlive/texmf-dist/tex/latex/hyperref/pd1enc.def)\n",
            "(/usr/share/texlive/texmf-dist/tex/latex/hyperref/hyperref-langpatches.def)\n",
            "(/usr/share/texlive/texmf-dist/tex/generic/intcalc/intcalc.sty)\n",
            "(/usr/share/texlive/texmf-dist/tex/generic/etexcmds/etexcmds.sty)\n",
            "(/usr/share/texlive/texmf-dist/tex/latex/hyperref/puenc.def)\n",
            "(/usr/share/texlive/texmf-dist/tex/latex/url/url.sty)\n",
            "(/usr/share/texlive/texmf-dist/tex/generic/bitset/bitset.sty\n",
            "(/usr/share/texlive/texmf-dist/tex/generic/bigintcalc/bigintcalc.sty))\n",
            "(/usr/share/texlive/texmf-dist/tex/latex/base/atbegshi-ltx.sty))\n",
            "(/usr/share/texlive/texmf-dist/tex/latex/hyperref/hxetex.def\n",
            "(/usr/share/texlive/texmf-dist/tex/generic/stringenc/stringenc.sty)\n",
            "(/usr/share/texlive/texmf-dist/tex/latex/rerunfilecheck/rerunfilecheck.sty\n",
            "(/usr/share/texlive/texmf-dist/tex/latex/base/atveryend-ltx.sty)\n",
            "(/usr/share/texlive/texmf-dist/tex/generic/uniquecounter/uniquecounter.sty)))\n",
            "(/usr/share/texlive/texmf-dist/tex/latex/listings/listings.sty\n",
            "(/usr/share/texlive/texmf-dist/tex/latex/listings/lstmisc.sty)\n",
            "(/usr/share/texlive/texmf-dist/tex/latex/listings/listings.cfg))\n",
            "(/usr/share/texlive/texmf-dist/tex/xelatex/xecjk/xeCJK-listings.sty)\n",
            "(./examplenew1.aux)\n",
            "*geometry* driver: auto-detecting\n",
            "*geometry* detected driver: xetex\n",
            "(/usr/share/texlive/texmf-dist/tex/latex/hyperref/nameref.sty\n",
            "(/usr/share/texlive/texmf-dist/tex/latex/refcount/refcount.sty)\n",
            "(/usr/share/texlive/texmf-dist/tex/generic/gettitlestring/gettitlestring.sty))\n",
            "(./examplenew1.out) (./examplenew1.out)\n",
            "\n",
            "LaTeX Warning: No \\author given.\n",
            "\n",
            "[1] (./examplenew1.aux) )\n",
            "Output written on examplenew1.pdf (1 page).\n",
            "Transcript written on examplenew1.log.\n",
            "\n",
            "\n"
          ]
        }
      ]
    },
    {
      "cell_type": "code",
      "source": [],
      "metadata": {
        "id": "BEcM6LhRmgUj"
      },
      "execution_count": null,
      "outputs": []
    },
    {
      "cell_type": "markdown",
      "source": [
        "测试集成函数"
      ],
      "metadata": {
        "id": "bd9Um0KIxjKn"
      }
    },
    {
      "cell_type": "code",
      "source": [
        "def compilation(md_text,tex_name,title_name):\n",
        "  lines=html_lines(md_text)     #将输入整理成超文本行数组,注意输入参数要改为mD_text\n",
        "  sgmnts=segmentation(lines)        #整理成元素数组\n",
        "\n",
        "  fName=tex_name+\".tex\"\n",
        "\n",
        "  doc_title=r\"\"\"\\title{\"\"\"+title_name+r\"\"\"}\"\"\"\n",
        "\n",
        "  tex=document_head+doc_title+body_head+latex_assembler(sgmnts)+\"\\end{document}\"\n",
        "\n",
        "  with open(fName, 'w') as f:\n",
        "    f.write(tex)\n",
        "\n",
        "  return subprocess.run(['xelatex', fName], capture_output=True, text=True)"
      ],
      "metadata": {
        "colab": {
          "base_uri": "https://localhost:8080/"
        },
        "collapsed": true,
        "outputId": "6393ff2a-29fc-4178-cafd-da2dd40f87ac",
        "id": "KfGoABwFmhAD"
      },
      "execution_count": null,
      "outputs": [
        {
          "output_type": "stream",
          "name": "stdout",
          "text": [
            "CompletedProcess(args=['xelatex', 'nomatterIII.tex'], returncode=0, stdout='This is XeTeX, Version 3.141592653-2.6-0.999993 (TeX Live 2022/dev/Debian) (preloaded format=xelatex)\\n restricted \\\\write18 enabled.\\nentering extended mode\\n(./nomatterIII.tex\\nLaTeX2e <2021-11-15> patch level 1\\nL3 programming layer <2022-01-21>\\n(/usr/share/texlive/texmf-dist/tex/latex/base/article.cls\\nDocument Class: article 2021/10/04 v1.4n Standard LaTeX document class\\n(/usr/share/texlive/texmf-dist/tex/latex/base/size12.clo))\\n(/usr/share/texlive/texmf-dist/tex/latex/ctex/ctex.sty\\n(/usr/share/texlive/texmf-dist/tex/latex/l3kernel/expl3.sty\\n(/usr/share/texlive/texmf-dist/tex/latex/l3backend/l3backend-xetex.def\\n(|extractbb --version)))\\n(/usr/share/texlive/texmf-dist/tex/latex/l3packages/xparse/xparse.sty)\\n(/usr/share/texlive/texmf-dist/tex/latex/l3packages/l3keys2e/l3keys2e.sty)\\n(/usr/share/texlive/texmf-dist/tex/latex/ctex/ctexhook.sty)\\n(/usr/share/texlive/texmf-dist/tex/latex/ctex/ctexpatch.sty)\\n(/usr/share/texlive/texmf-dist/tex/latex/base/fix-cm.sty\\n(/usr/share/texlive/texmf-dist/tex/latex/base/ts1enc.def))\\n(/usr/share/texlive/texmf-dist/tex/latex/ctex/config/ctexopts.cfg)\\n(/usr/share/texlive/texmf-dist/tex/latex/ctex/engine/ctex-engine-xetex.def\\n(/usr/share/texlive/texmf-dist/tex/xelatex/xecjk/xeCJK.sty\\n(/usr/share/texlive/texmf-dist/tex/latex/l3packages/xtemplate/xtemplate.sty)\\n(/usr/share/texlive/texmf-dist/tex/latex/fontspec/fontspec.sty\\n(/usr/share/texlive/texmf-dist/tex/latex/fontspec/fontspec-xetex.sty\\n(/usr/share/texlive/texmf-dist/tex/latex/base/fontenc.sty)\\n(/usr/share/texlive/texmf-dist/tex/latex/fontspec/fontspec.cfg)))\\n(/usr/share/texlive/texmf-dist/tex/xelatex/xecjk/xeCJK.cfg)))\\n(/usr/share/texlive/texmf-dist/tex/latex/zhnumber/zhnumber.sty\\n(/usr/share/texlive/texmf-dist/tex/latex/zhnumber/zhnumber-utf8.cfg))\\n(/usr/share/texlive/texmf-dist/tex/latex/ctex/scheme/ctex-scheme-chinese.def\\n(/usr/share/texlive/texmf-dist/tex/latex/ctex/config/ctex-name-utf8.cfg))\\n(/usr/share/texlive/texmf-dist/tex/latex/tools/indentfirst.sty)\\n(/usr/share/texlive/texmf-dist/tex/latex/ctex/fontset/ctex-fontset-fandol.def\\n\\nPackage fontspec Warning: Font \"FandolSong-Regular\" does not contain requested\\n(fontspec)                Script \"CJK\".\\n\\n)) (/usr/share/texlive/texmf-dist/tex/latex/ctex/config/ctex.cfg)\\n(/usr/share/texlive/texmf-dist/tex/latex/geometry/geometry.sty\\n(/usr/share/texlive/texmf-dist/tex/latex/graphics/keyval.sty)\\n(/usr/share/texlive/texmf-dist/tex/generic/iftex/ifvtex.sty\\n(/usr/share/texlive/texmf-dist/tex/generic/iftex/iftex.sty)))\\n(/usr/share/texlive/texmf-dist/tex/latex/hyperref/hyperref.sty\\n(/usr/share/texlive/texmf-dist/tex/generic/ltxcmds/ltxcmds.sty)\\n(/usr/share/texlive/texmf-dist/tex/generic/pdftexcmds/pdftexcmds.sty\\n(/usr/share/texlive/texmf-dist/tex/generic/infwarerr/infwarerr.sty))\\n(/usr/share/texlive/texmf-dist/tex/generic/kvsetkeys/kvsetkeys.sty)\\n(/usr/share/texlive/texmf-dist/tex/generic/kvdefinekeys/kvdefinekeys.sty)\\n(/usr/share/texlive/texmf-dist/tex/generic/pdfescape/pdfescape.sty)\\n(/usr/share/texlive/texmf-dist/tex/latex/hycolor/hycolor.sty)\\n(/usr/share/texlive/texmf-dist/tex/latex/letltxmacro/letltxmacro.sty)\\n(/usr/share/texlive/texmf-dist/tex/latex/auxhook/auxhook.sty)\\n(/usr/share/texlive/texmf-dist/tex/latex/kvoptions/kvoptions.sty)\\n(/usr/share/texlive/texmf-dist/tex/latex/hyperref/pd1enc.def)\\n(/usr/share/texlive/texmf-dist/tex/latex/hyperref/hyperref-langpatches.def)\\n(/usr/share/texlive/texmf-dist/tex/generic/intcalc/intcalc.sty)\\n(/usr/share/texlive/texmf-dist/tex/generic/etexcmds/etexcmds.sty)\\n(/usr/share/texlive/texmf-dist/tex/latex/hyperref/puenc.def)\\n(/usr/share/texlive/texmf-dist/tex/latex/url/url.sty)\\n(/usr/share/texlive/texmf-dist/tex/generic/bitset/bitset.sty\\n(/usr/share/texlive/texmf-dist/tex/generic/bigintcalc/bigintcalc.sty))\\n(/usr/share/texlive/texmf-dist/tex/latex/base/atbegshi-ltx.sty))\\n(/usr/share/texlive/texmf-dist/tex/latex/hyperref/hxetex.def\\n(/usr/share/texlive/texmf-dist/tex/generic/stringenc/stringenc.sty)\\n(/usr/share/texlive/texmf-dist/tex/latex/rerunfilecheck/rerunfilecheck.sty\\n(/usr/share/texlive/texmf-dist/tex/latex/base/atveryend-ltx.sty)\\n(/usr/share/texlive/texmf-dist/tex/generic/uniquecounter/uniquecounter.sty)))\\nNo file nomatterIII.aux.\\n*geometry* driver: auto-detecting\\n*geometry* detected driver: xetex\\n(/usr/share/texlive/texmf-dist/tex/latex/hyperref/nameref.sty\\n(/usr/share/texlive/texmf-dist/tex/latex/refcount/refcount.sty)\\n(/usr/share/texlive/texmf-dist/tex/generic/gettitlestring/gettitlestring.sty))\\n\\nPackage hyperref Warning: Rerun to get /PageLabels entry.\\n\\n\\nLaTeX Warning: No \\\\author given.\\n\\n[1] [2] (./nomatterIII.aux)\\n\\nPackage rerunfilecheck Warning: File `nomatterIII.out\\' has changed.\\n(rerunfilecheck)                Rerun to get outlines right\\n(rerunfilecheck)                or use package `bookmark\\'.\\n\\n )\\nOutput written on nomatterIII.pdf (2 pages).\\nTranscript written on nomatterIII.log.\\n', stderr='')\n"
          ]
        }
      ]
    },
    {
      "cell_type": "code",
      "source": [
        "# @title 最简交互\n",
        "file_name = \"全局4\" # @param {\"type\":\"string\",\"placeholder\":\"请输入要生成的文件的名称\"}\n",
        "document_title = \"整理成超文本行数组\" # @param {\"type\":\"string\",\"placeholder\":\"请输入给出生成文档的标题\"}\n",
        "markdonw_str = \"False\" # @param {\"type\":\"string\",\"placeholder\":\"请输入Markdown字符串\"}\n",
        "compilation(markdown_text,file_name,document_title)    #依次为md文本字符串，输出文件名，文档标题\n"
      ],
      "metadata": {
        "colab": {
          "base_uri": "https://localhost:8080/"
        },
        "id": "_bpscD76wpaC",
        "outputId": "fa8d46e1-2a7d-444c-9bd6-01e1112bdfa5"
      },
      "execution_count": null,
      "outputs": [
        {
          "output_type": "execute_result",
          "data": {
            "text/plain": [
              "CompletedProcess(args=['xelatex', '全局4.tex'], returncode=0, stdout='This is XeTeX, Version 3.141592653-2.6-0.999993 (TeX Live 2022/dev/Debian) (preloaded format=xelatex)\\n restricted \\\\write18 enabled.\\nentering extended mode\\n(./全局4.tex\\nLaTeX2e <2021-11-15> patch level 1\\nL3 programming layer <2022-01-21>\\n(/usr/share/texlive/texmf-dist/tex/latex/base/article.cls\\nDocument Class: article 2021/10/04 v1.4n Standard LaTeX document class\\n(/usr/share/texlive/texmf-dist/tex/latex/base/size12.clo))\\n(/usr/share/texlive/texmf-dist/tex/latex/ctex/ctex.sty\\n(/usr/share/texlive/texmf-dist/tex/latex/l3kernel/expl3.sty\\n(/usr/share/texlive/texmf-dist/tex/latex/l3backend/l3backend-xetex.def\\n(|extractbb --version)))\\n(/usr/share/texlive/texmf-dist/tex/latex/l3packages/xparse/xparse.sty)\\n(/usr/share/texlive/texmf-dist/tex/latex/l3packages/l3keys2e/l3keys2e.sty)\\n(/usr/share/texlive/texmf-dist/tex/latex/ctex/ctexhook.sty)\\n(/usr/share/texlive/texmf-dist/tex/latex/ctex/ctexpatch.sty)\\n(/usr/share/texlive/texmf-dist/tex/latex/base/fix-cm.sty\\n(/usr/share/texlive/texmf-dist/tex/latex/base/ts1enc.def))\\n(/usr/share/texlive/texmf-dist/tex/latex/ctex/config/ctexopts.cfg)\\n(/usr/share/texlive/texmf-dist/tex/latex/ctex/engine/ctex-engine-xetex.def\\n(/usr/share/texlive/texmf-dist/tex/xelatex/xecjk/xeCJK.sty\\n(/usr/share/texlive/texmf-dist/tex/latex/l3packages/xtemplate/xtemplate.sty)\\n(/usr/share/texlive/texmf-dist/tex/latex/fontspec/fontspec.sty\\n(/usr/share/texlive/texmf-dist/tex/latex/fontspec/fontspec-xetex.sty\\n(/usr/share/texlive/texmf-dist/tex/latex/base/fontenc.sty)\\n(/usr/share/texlive/texmf-dist/tex/latex/fontspec/fontspec.cfg)))\\n(/usr/share/texlive/texmf-dist/tex/xelatex/xecjk/xeCJK.cfg)))\\n(/usr/share/texlive/texmf-dist/tex/latex/zhnumber/zhnumber.sty\\n(/usr/share/texlive/texmf-dist/tex/latex/zhnumber/zhnumber-utf8.cfg))\\n(/usr/share/texlive/texmf-dist/tex/latex/ctex/scheme/ctex-scheme-chinese.def\\n(/usr/share/texlive/texmf-dist/tex/latex/ctex/config/ctex-name-utf8.cfg))\\n(/usr/share/texlive/texmf-dist/tex/latex/tools/indentfirst.sty)\\n(/usr/share/texlive/texmf-dist/tex/latex/ctex/fontset/ctex-fontset-fandol.def\\n\\nPackage fontspec Warning: Font \"FandolSong-Regular\" does not contain requested\\n(fontspec)                Script \"CJK\".\\n\\n)) (/usr/share/texlive/texmf-dist/tex/latex/ctex/config/ctex.cfg)\\n(/usr/share/texlive/texmf-dist/tex/latex/geometry/geometry.sty\\n(/usr/share/texlive/texmf-dist/tex/latex/graphics/keyval.sty)\\n(/usr/share/texlive/texmf-dist/tex/generic/iftex/ifvtex.sty\\n(/usr/share/texlive/texmf-dist/tex/generic/iftex/iftex.sty)))\\n(/usr/share/texlive/texmf-dist/tex/latex/hyperref/hyperref.sty\\n(/usr/share/texlive/texmf-dist/tex/generic/ltxcmds/ltxcmds.sty)\\n(/usr/share/texlive/texmf-dist/tex/generic/pdftexcmds/pdftexcmds.sty\\n(/usr/share/texlive/texmf-dist/tex/generic/infwarerr/infwarerr.sty))\\n(/usr/share/texlive/texmf-dist/tex/generic/kvsetkeys/kvsetkeys.sty)\\n(/usr/share/texlive/texmf-dist/tex/generic/kvdefinekeys/kvdefinekeys.sty)\\n(/usr/share/texlive/texmf-dist/tex/generic/pdfescape/pdfescape.sty)\\n(/usr/share/texlive/texmf-dist/tex/latex/hycolor/hycolor.sty)\\n(/usr/share/texlive/texmf-dist/tex/latex/letltxmacro/letltxmacro.sty)\\n(/usr/share/texlive/texmf-dist/tex/latex/auxhook/auxhook.sty)\\n(/usr/share/texlive/texmf-dist/tex/latex/kvoptions/kvoptions.sty)\\n(/usr/share/texlive/texmf-dist/tex/latex/hyperref/pd1enc.def)\\n(/usr/share/texlive/texmf-dist/tex/latex/hyperref/hyperref-langpatches.def)\\n(/usr/share/texlive/texmf-dist/tex/generic/intcalc/intcalc.sty)\\n(/usr/share/texlive/texmf-dist/tex/generic/etexcmds/etexcmds.sty)\\n(/usr/share/texlive/texmf-dist/tex/latex/hyperref/puenc.def)\\n(/usr/share/texlive/texmf-dist/tex/latex/url/url.sty)\\n(/usr/share/texlive/texmf-dist/tex/generic/bitset/bitset.sty\\n(/usr/share/texlive/texmf-dist/tex/generic/bigintcalc/bigintcalc.sty))\\n(/usr/share/texlive/texmf-dist/tex/latex/base/atbegshi-ltx.sty))\\n(/usr/share/texlive/texmf-dist/tex/latex/hyperref/hxetex.def\\n(/usr/share/texlive/texmf-dist/tex/generic/stringenc/stringenc.sty)\\n(/usr/share/texlive/texmf-dist/tex/latex/rerunfilecheck/rerunfilecheck.sty\\n(/usr/share/texlive/texmf-dist/tex/latex/base/atveryend-ltx.sty)\\n(/usr/share/texlive/texmf-dist/tex/generic/uniquecounter/uniquecounter.sty)))\\n(/usr/share/texlive/texmf-dist/tex/latex/listings/listings.sty\\n(/usr/share/texlive/texmf-dist/tex/latex/listings/lstmisc.sty)\\n(/usr/share/texlive/texmf-dist/tex/latex/listings/listings.cfg))\\n(/usr/share/texlive/texmf-dist/tex/xelatex/xecjk/xeCJK-listings.sty) (./全局4.aux\\n)\\n*geometry* driver: auto-detecting\\n*geometry* detected driver: xetex\\n(/usr/share/texlive/texmf-dist/tex/latex/hyperref/nameref.sty\\n(/usr/share/texlive/texmf-dist/tex/latex/refcount/refcount.sty)\\n(/usr/share/texlive/texmf-dist/tex/generic/gettitlestring/gettitlestring.sty))\\n(./全局4.out) (./全局4.out)\\n\\nLaTeX Warning: No \\\\author given.\\n\\n[1] [2] (./全局4.aux) )\\nOutput written on 全局4.pdf (2 pages).\\nTranscript written on 全局4.log.\\n', stderr='')"
            ]
          },
          "metadata": {},
          "execution_count": 266
        }
      ]
    },
    {
      "cell_type": "markdown",
      "source": [
        "### 执行"
      ],
      "metadata": {
        "id": "WM9YtoBPdk_M"
      }
    },
    {
      "cell_type": "markdown",
      "source": [
        "### 编译输出部分"
      ],
      "metadata": {
        "id": "6zFjAPo1xiId"
      }
    },
    {
      "cell_type": "code",
      "source": [
        "with open('nomatterII.tex', 'w') as f:\n",
        "    f.write(tex)\n",
        "result = subprocess.run(['xelatex', 'nomatterII.tex'], capture_output=True, text=True)\n",
        "\n",
        "# 输出编译结果\n",
        "print(tex)\n",
        "print(result.stdout)\n",
        "print(result.stderr)"
      ],
      "metadata": {
        "colab": {
          "base_uri": "https://localhost:8080/"
        },
        "collapsed": true,
        "id": "P3a_945eLrzB",
        "outputId": "7854c805-be1d-4fac-f591-63822e7cd584"
      },
      "execution_count": null,
      "outputs": [
        {
          "output_type": "stream",
          "name": "stdout",
          "text": [
            "\n",
            "\\documentclass[12pt,a4paper]{article}\n",
            "\\usepackage{ctex} % 用于支持中文\n",
            "\\usepackage{geometry} % 用于页面布局设置\n",
            "\\geometry{left=2.5cm,right=2.5cm,top=2.5cm,bottom=2.5cm}\n",
            "\\usepackage{hyperref} % 用于创建超链接\n",
            "\\title{还是不重要二}\n",
            "\\begin{document}\n",
            "\\maketitle\n",
            "markdown_text\n",
            "\\end{document}\n",
            "This is XeTeX, Version 3.141592653-2.6-0.999993 (TeX Live 2022/dev/Debian) (preloaded format=xelatex)\n",
            " restricted \\write18 enabled.\n",
            "entering extended mode\n",
            "(./nomatterII.tex\n",
            "LaTeX2e <2021-11-15> patch level 1\n",
            "L3 programming layer <2022-01-21>\n",
            "(/usr/share/texlive/texmf-dist/tex/latex/base/article.cls\n",
            "Document Class: article 2021/10/04 v1.4n Standard LaTeX document class\n",
            "(/usr/share/texlive/texmf-dist/tex/latex/base/size12.clo))\n",
            "(/usr/share/texlive/texmf-dist/tex/latex/ctex/ctex.sty\n",
            "(/usr/share/texlive/texmf-dist/tex/latex/l3kernel/expl3.sty\n",
            "(/usr/share/texlive/texmf-dist/tex/latex/l3backend/l3backend-xetex.def\n",
            "(|extractbb --version)))\n",
            "(/usr/share/texlive/texmf-dist/tex/latex/l3packages/xparse/xparse.sty)\n",
            "(/usr/share/texlive/texmf-dist/tex/latex/l3packages/l3keys2e/l3keys2e.sty)\n",
            "(/usr/share/texlive/texmf-dist/tex/latex/ctex/ctexhook.sty)\n",
            "(/usr/share/texlive/texmf-dist/tex/latex/ctex/ctexpatch.sty)\n",
            "(/usr/share/texlive/texmf-dist/tex/latex/base/fix-cm.sty\n",
            "(/usr/share/texlive/texmf-dist/tex/latex/base/ts1enc.def))\n",
            "(/usr/share/texlive/texmf-dist/tex/latex/ctex/config/ctexopts.cfg)\n",
            "(/usr/share/texlive/texmf-dist/tex/latex/ctex/engine/ctex-engine-xetex.def\n",
            "(/usr/share/texlive/texmf-dist/tex/xelatex/xecjk/xeCJK.sty\n",
            "(/usr/share/texlive/texmf-dist/tex/latex/l3packages/xtemplate/xtemplate.sty)\n",
            "(/usr/share/texlive/texmf-dist/tex/latex/fontspec/fontspec.sty\n",
            "(/usr/share/texlive/texmf-dist/tex/latex/fontspec/fontspec-xetex.sty\n",
            "(/usr/share/texlive/texmf-dist/tex/latex/base/fontenc.sty)\n",
            "(/usr/share/texlive/texmf-dist/tex/latex/fontspec/fontspec.cfg)))\n",
            "(/usr/share/texlive/texmf-dist/tex/xelatex/xecjk/xeCJK.cfg)))\n",
            "(/usr/share/texlive/texmf-dist/tex/latex/zhnumber/zhnumber.sty\n",
            "(/usr/share/texlive/texmf-dist/tex/latex/zhnumber/zhnumber-utf8.cfg))\n",
            "(/usr/share/texlive/texmf-dist/tex/latex/ctex/scheme/ctex-scheme-chinese.def\n",
            "(/usr/share/texlive/texmf-dist/tex/latex/ctex/config/ctex-name-utf8.cfg))\n",
            "(/usr/share/texlive/texmf-dist/tex/latex/tools/indentfirst.sty)\n",
            "(/usr/share/texlive/texmf-dist/tex/latex/ctex/fontset/ctex-fontset-fandol.def\n",
            "\n",
            "Package fontspec Warning: Font \"FandolSong-Regular\" does not contain requested\n",
            "(fontspec)                Script \"CJK\".\n",
            "\n",
            ")) (/usr/share/texlive/texmf-dist/tex/latex/ctex/config/ctex.cfg)\n",
            "(/usr/share/texlive/texmf-dist/tex/latex/geometry/geometry.sty\n",
            "(/usr/share/texlive/texmf-dist/tex/latex/graphics/keyval.sty)\n",
            "(/usr/share/texlive/texmf-dist/tex/generic/iftex/ifvtex.sty\n",
            "(/usr/share/texlive/texmf-dist/tex/generic/iftex/iftex.sty)))\n",
            "(/usr/share/texlive/texmf-dist/tex/latex/hyperref/hyperref.sty\n",
            "(/usr/share/texlive/texmf-dist/tex/generic/ltxcmds/ltxcmds.sty)\n",
            "(/usr/share/texlive/texmf-dist/tex/generic/pdftexcmds/pdftexcmds.sty\n",
            "(/usr/share/texlive/texmf-dist/tex/generic/infwarerr/infwarerr.sty))\n",
            "(/usr/share/texlive/texmf-dist/tex/generic/kvsetkeys/kvsetkeys.sty)\n",
            "(/usr/share/texlive/texmf-dist/tex/generic/kvdefinekeys/kvdefinekeys.sty)\n",
            "(/usr/share/texlive/texmf-dist/tex/generic/pdfescape/pdfescape.sty)\n",
            "(/usr/share/texlive/texmf-dist/tex/latex/hycolor/hycolor.sty)\n",
            "(/usr/share/texlive/texmf-dist/tex/latex/letltxmacro/letltxmacro.sty)\n",
            "(/usr/share/texlive/texmf-dist/tex/latex/auxhook/auxhook.sty)\n",
            "(/usr/share/texlive/texmf-dist/tex/latex/kvoptions/kvoptions.sty)\n",
            "(/usr/share/texlive/texmf-dist/tex/latex/hyperref/pd1enc.def)\n",
            "(/usr/share/texlive/texmf-dist/tex/latex/hyperref/hyperref-langpatches.def)\n",
            "(/usr/share/texlive/texmf-dist/tex/generic/intcalc/intcalc.sty)\n",
            "(/usr/share/texlive/texmf-dist/tex/generic/etexcmds/etexcmds.sty)\n",
            "(/usr/share/texlive/texmf-dist/tex/latex/hyperref/puenc.def)\n",
            "(/usr/share/texlive/texmf-dist/tex/latex/url/url.sty)\n",
            "(/usr/share/texlive/texmf-dist/tex/generic/bitset/bitset.sty\n",
            "(/usr/share/texlive/texmf-dist/tex/generic/bigintcalc/bigintcalc.sty))\n",
            "(/usr/share/texlive/texmf-dist/tex/latex/base/atbegshi-ltx.sty))\n",
            "(/usr/share/texlive/texmf-dist/tex/latex/hyperref/hxetex.def\n",
            "(/usr/share/texlive/texmf-dist/tex/generic/stringenc/stringenc.sty)\n",
            "(/usr/share/texlive/texmf-dist/tex/latex/rerunfilecheck/rerunfilecheck.sty\n",
            "(/usr/share/texlive/texmf-dist/tex/latex/base/atveryend-ltx.sty)\n",
            "(/usr/share/texlive/texmf-dist/tex/generic/uniquecounter/uniquecounter.sty)))\n",
            "(./nomatterII.aux)\n",
            "*geometry* driver: auto-detecting\n",
            "*geometry* detected driver: xetex\n",
            "(/usr/share/texlive/texmf-dist/tex/latex/hyperref/nameref.sty\n",
            "(/usr/share/texlive/texmf-dist/tex/latex/refcount/refcount.sty)\n",
            "(/usr/share/texlive/texmf-dist/tex/generic/gettitlestring/gettitlestring.sty))\n",
            "(./nomatterII.out) (./nomatterII.out)\n",
            "\n",
            "Package hyperref Warning: Rerun to get /PageLabels entry.\n",
            "\n",
            "\n",
            "LaTeX Warning: No \\author given.\n",
            "\n",
            "! Missing $ inserted.\n",
            "<inserted text> \n",
            "                $\n",
            "l.10 markdown_\n",
            "              text\n",
            "? \n",
            "! Emergency stop.\n",
            "<inserted text> \n",
            "                $\n",
            "l.10 markdown_\n",
            "              text\n",
            "No pages of output.\n",
            "Transcript written on nomatterII.log.\n",
            "\n",
            "\n"
          ]
        }
      ]
    }
  ]
}